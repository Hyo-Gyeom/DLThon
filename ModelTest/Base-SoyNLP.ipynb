{
 "cells": [
  {
   "cell_type": "code",
   "execution_count": 3,
   "id": "007c1197",
   "metadata": {},
   "outputs": [
    {
     "data": {
      "text/plain": [
       "'/usr/share/fonts/truetype/nanum/NanumBarunGothic.ttf'"
      ]
     },
     "execution_count": 3,
     "metadata": {},
     "output_type": "execute_result"
    }
   ],
   "source": [
    "import matplotlib as mpl\n",
    "import matplotlib.pyplot as plt\n",
    " \n",
    "%config InlineBackend.figure_format = 'retina'\n",
    " \n",
    "import matplotlib.font_manager as fm\n",
    "fontpath = '/usr/share/fonts/truetype/nanum/NanumBarunGothic.ttf'\n",
    "font = fm.FontProperties(fname=fontpath, size=9)\n",
    "plt.rc('font', family='NanumBarunGothic') \n",
    "mpl.font_manager.findfont(font)"
   ]
  },
  {
   "cell_type": "markdown",
   "id": "dab98f5c",
   "metadata": {},
   "source": [
    "# 데이터 로드"
   ]
  },
  {
   "cell_type": "code",
   "execution_count": 4,
   "id": "9c26428e",
   "metadata": {},
   "outputs": [
    {
     "data": {
      "text/html": [
       "<div>\n",
       "<style scoped>\n",
       "    .dataframe tbody tr th:only-of-type {\n",
       "        vertical-align: middle;\n",
       "    }\n",
       "\n",
       "    .dataframe tbody tr th {\n",
       "        vertical-align: top;\n",
       "    }\n",
       "\n",
       "    .dataframe thead th {\n",
       "        text-align: right;\n",
       "    }\n",
       "</style>\n",
       "<table border=\"1\" class=\"dataframe\">\n",
       "  <thead>\n",
       "    <tr style=\"text-align: right;\">\n",
       "      <th></th>\n",
       "      <th>idx</th>\n",
       "      <th>class</th>\n",
       "      <th>conversation</th>\n",
       "    </tr>\n",
       "  </thead>\n",
       "  <tbody>\n",
       "    <tr>\n",
       "      <th>0</th>\n",
       "      <td>0</td>\n",
       "      <td>협박 대화</td>\n",
       "      <td>지금 너 스스로를 죽여달라고 애원하는 것인가?\\n 아닙니다. 죄송합니다.\\n 죽을 ...</td>\n",
       "    </tr>\n",
       "    <tr>\n",
       "      <th>1</th>\n",
       "      <td>1</td>\n",
       "      <td>협박 대화</td>\n",
       "      <td>길동경찰서입니다.\\n9시 40분 마트에 폭발물을 설치할거다.\\n네?\\n똑바로 들어 ...</td>\n",
       "    </tr>\n",
       "    <tr>\n",
       "      <th>2</th>\n",
       "      <td>2</td>\n",
       "      <td>기타 괴롭힘 대화</td>\n",
       "      <td>너 되게 귀여운거 알지? 나보다 작은 남자는 첨봤어.\\n그만해. 니들 놀리는거 재미...</td>\n",
       "    </tr>\n",
       "    <tr>\n",
       "      <th>3</th>\n",
       "      <td>3</td>\n",
       "      <td>갈취 대화</td>\n",
       "      <td>어이 거기\\n예??\\n너 말이야 너. 이리 오라고\\n무슨 일.\\n너 옷 좋아보인다?...</td>\n",
       "    </tr>\n",
       "    <tr>\n",
       "      <th>4</th>\n",
       "      <td>4</td>\n",
       "      <td>갈취 대화</td>\n",
       "      <td>저기요 혹시 날이 너무 뜨겁잖아요? 저희 회사에서 이 선크림 파는데 한 번 손등에 ...</td>\n",
       "    </tr>\n",
       "  </tbody>\n",
       "</table>\n",
       "</div>"
      ],
      "text/plain": [
       "   idx      class                                       conversation\n",
       "0    0      협박 대화  지금 너 스스로를 죽여달라고 애원하는 것인가?\\n 아닙니다. 죄송합니다.\\n 죽을 ...\n",
       "1    1      협박 대화  길동경찰서입니다.\\n9시 40분 마트에 폭발물을 설치할거다.\\n네?\\n똑바로 들어 ...\n",
       "2    2  기타 괴롭힘 대화  너 되게 귀여운거 알지? 나보다 작은 남자는 첨봤어.\\n그만해. 니들 놀리는거 재미...\n",
       "3    3      갈취 대화  어이 거기\\n예??\\n너 말이야 너. 이리 오라고\\n무슨 일.\\n너 옷 좋아보인다?...\n",
       "4    4      갈취 대화  저기요 혹시 날이 너무 뜨겁잖아요? 저희 회사에서 이 선크림 파는데 한 번 손등에 ..."
      ]
     },
     "execution_count": 4,
     "metadata": {},
     "output_type": "execute_result"
    }
   ],
   "source": [
    "import os\n",
    "import pandas as pd\n",
    "\n",
    "train_data_path =\"data/train.csv\"\n",
    "train_data = pd.read_csv(train_data_path)\n",
    "train_data.head()"
   ]
  },
  {
   "cell_type": "code",
   "execution_count": 5,
   "id": "1ec740bd",
   "metadata": {},
   "outputs": [
    {
     "data": {
      "text/html": [
       "<div>\n",
       "<style scoped>\n",
       "    .dataframe tbody tr th:only-of-type {\n",
       "        vertical-align: middle;\n",
       "    }\n",
       "\n",
       "    .dataframe tbody tr th {\n",
       "        vertical-align: top;\n",
       "    }\n",
       "\n",
       "    .dataframe thead th {\n",
       "        text-align: right;\n",
       "    }\n",
       "</style>\n",
       "<table border=\"1\" class=\"dataframe\">\n",
       "  <thead>\n",
       "    <tr style=\"text-align: right;\">\n",
       "      <th></th>\n",
       "      <th>idx</th>\n",
       "      <th>conversation</th>\n",
       "    </tr>\n",
       "    <tr>\n",
       "      <th>class</th>\n",
       "      <th></th>\n",
       "      <th></th>\n",
       "    </tr>\n",
       "  </thead>\n",
       "  <tbody>\n",
       "    <tr>\n",
       "      <th>갈취 대화</th>\n",
       "      <td>981</td>\n",
       "      <td>981</td>\n",
       "    </tr>\n",
       "    <tr>\n",
       "      <th>기타 괴롭힘 대화</th>\n",
       "      <td>1094</td>\n",
       "      <td>1094</td>\n",
       "    </tr>\n",
       "    <tr>\n",
       "      <th>직장 내 괴롭힘 대화</th>\n",
       "      <td>979</td>\n",
       "      <td>979</td>\n",
       "    </tr>\n",
       "    <tr>\n",
       "      <th>협박 대화</th>\n",
       "      <td>896</td>\n",
       "      <td>896</td>\n",
       "    </tr>\n",
       "  </tbody>\n",
       "</table>\n",
       "</div>"
      ],
      "text/plain": [
       "              idx  conversation\n",
       "class                          \n",
       "갈취 대화         981           981\n",
       "기타 괴롭힘 대화    1094          1094\n",
       "직장 내 괴롭힘 대화   979           979\n",
       "협박 대화         896           896"
      ]
     },
     "execution_count": 5,
     "metadata": {},
     "output_type": "execute_result"
    }
   ],
   "source": [
    "train_data.groupby('class').count()"
   ]
  },
  {
   "cell_type": "code",
   "execution_count": 6,
   "id": "e9e75ac2",
   "metadata": {},
   "outputs": [
    {
     "data": {
      "text/html": [
       "<div>\n",
       "<style scoped>\n",
       "    .dataframe tbody tr th:only-of-type {\n",
       "        vertical-align: middle;\n",
       "    }\n",
       "\n",
       "    .dataframe tbody tr th {\n",
       "        vertical-align: top;\n",
       "    }\n",
       "\n",
       "    .dataframe thead th {\n",
       "        text-align: right;\n",
       "    }\n",
       "</style>\n",
       "<table border=\"1\" class=\"dataframe\">\n",
       "  <thead>\n",
       "    <tr style=\"text-align: right;\">\n",
       "      <th></th>\n",
       "      <th>text</th>\n",
       "    </tr>\n",
       "  </thead>\n",
       "  <tbody>\n",
       "    <tr>\n",
       "      <th>t_000</th>\n",
       "      <td>아가씨 담배한갑주소 네 4500원입니다 어 네 지갑어디갔지 에이 버스에서 잃어버렸나...</td>\n",
       "    </tr>\n",
       "    <tr>\n",
       "      <th>t_001</th>\n",
       "      <td>우리팀에서 다른팀으로 갈 사람 없나? 그럼 영지씨가 가는건 어때?  네? 제가요? ...</td>\n",
       "    </tr>\n",
       "    <tr>\n",
       "      <th>t_002</th>\n",
       "      <td>너 오늘 그게 뭐야 네 제가 뭘 잘못했나요.? 제대로 좀 하지 네 똑바로 좀 하지 ...</td>\n",
       "    </tr>\n",
       "    <tr>\n",
       "      <th>t_004</th>\n",
       "      <td>아무튼 앞으로 니가 내 와이파이야. .응 와이파이 온. 켰어. 반말? 주인님이라고도...</td>\n",
       "    </tr>\n",
       "    <tr>\n",
       "      <th>t_005</th>\n",
       "      <td>그러니까 빨리 말해. 선생님 제발 살려주십시오.  비밀번호 틀릴 때마다 손톱 하나씩...</td>\n",
       "    </tr>\n",
       "  </tbody>\n",
       "</table>\n",
       "</div>"
      ],
      "text/plain": [
       "                                                    text\n",
       "t_000  아가씨 담배한갑주소 네 4500원입니다 어 네 지갑어디갔지 에이 버스에서 잃어버렸나...\n",
       "t_001  우리팀에서 다른팀으로 갈 사람 없나? 그럼 영지씨가 가는건 어때?  네? 제가요? ...\n",
       "t_002  너 오늘 그게 뭐야 네 제가 뭘 잘못했나요.? 제대로 좀 하지 네 똑바로 좀 하지 ...\n",
       "t_004  아무튼 앞으로 니가 내 와이파이야. .응 와이파이 온. 켰어. 반말? 주인님이라고도...\n",
       "t_005  그러니까 빨리 말해. 선생님 제발 살려주십시오.  비밀번호 틀릴 때마다 손톱 하나씩..."
      ]
     },
     "execution_count": 6,
     "metadata": {},
     "output_type": "execute_result"
    }
   ],
   "source": [
    "test_data = pd.read_json('data/test.json', orient='index')\n",
    "\n",
    "test_data.head()"
   ]
  },
  {
   "cell_type": "code",
   "execution_count": 7,
   "id": "00f27794",
   "metadata": {},
   "outputs": [
    {
     "name": "stdout",
     "output_type": "stream",
     "text": [
      "<class 'pandas.core.frame.DataFrame'>\n",
      "Index: 400 entries, t_000 to t_499\n",
      "Data columns (total 1 columns):\n",
      " #   Column  Non-Null Count  Dtype \n",
      "---  ------  --------------  ----- \n",
      " 0   text    400 non-null    object\n",
      "dtypes: object(1)\n",
      "memory usage: 6.2+ KB\n"
     ]
    }
   ],
   "source": [
    "test_data.info()"
   ]
  },
  {
   "cell_type": "markdown",
   "id": "b5e56dd5",
   "metadata": {},
   "source": [
    "# 데이터 전처리"
   ]
  },
  {
   "cell_type": "code",
   "execution_count": 8,
   "id": "81e9b3a9",
   "metadata": {},
   "outputs": [
    {
     "data": {
      "text/html": [
       "<div>\n",
       "<style scoped>\n",
       "    .dataframe tbody tr th:only-of-type {\n",
       "        vertical-align: middle;\n",
       "    }\n",
       "\n",
       "    .dataframe tbody tr th {\n",
       "        vertical-align: top;\n",
       "    }\n",
       "\n",
       "    .dataframe thead th {\n",
       "        text-align: right;\n",
       "    }\n",
       "</style>\n",
       "<table border=\"1\" class=\"dataframe\">\n",
       "  <thead>\n",
       "    <tr style=\"text-align: right;\">\n",
       "      <th></th>\n",
       "      <th>idx</th>\n",
       "      <th>class</th>\n",
       "      <th>conversation</th>\n",
       "    </tr>\n",
       "  </thead>\n",
       "  <tbody>\n",
       "    <tr>\n",
       "      <th>29</th>\n",
       "      <td>29</td>\n",
       "      <td>기타 괴롭힘 대화</td>\n",
       "      <td>병신이 아이스크림 먹게 돼 있냐?\\n난 먹으면 안 돼? 그만 좀 해.\\n당연히 안 ...</td>\n",
       "    </tr>\n",
       "    <tr>\n",
       "      <th>392</th>\n",
       "      <td>392</td>\n",
       "      <td>기타 괴롭힘 대화</td>\n",
       "      <td>병신이 아이스크림 먹게 돼 있냐?\\n난 먹으면 안 돼? 그만 좀 해.\\n당연히 안 ...</td>\n",
       "    </tr>\n",
       "  </tbody>\n",
       "</table>\n",
       "</div>"
      ],
      "text/plain": [
       "     idx      class                                       conversation\n",
       "29    29  기타 괴롭힘 대화  병신이 아이스크림 먹게 돼 있냐?\\n난 먹으면 안 돼? 그만 좀 해.\\n당연히 안 ...\n",
       "392  392  기타 괴롭힘 대화  병신이 아이스크림 먹게 돼 있냐?\\n난 먹으면 안 돼? 그만 좀 해.\\n당연히 안 ..."
      ]
     },
     "execution_count": 8,
     "metadata": {},
     "output_type": "execute_result"
    }
   ],
   "source": [
    "train_data[train_data.iloc[392]['conversation'] == train_data['conversation']]"
   ]
  },
  {
   "cell_type": "code",
   "execution_count": 9,
   "id": "0a732a37",
   "metadata": {},
   "outputs": [
    {
     "data": {
      "text/plain": [
       "104"
      ]
     },
     "execution_count": 9,
     "metadata": {},
     "output_type": "execute_result"
    }
   ],
   "source": [
    "train_data.duplicated('conversation').sum()"
   ]
  },
  {
   "cell_type": "code",
   "execution_count": 10,
   "id": "b7cc7d90",
   "metadata": {},
   "outputs": [
    {
     "name": "stdout",
     "output_type": "stream",
     "text": [
      "<class 'pandas.core.frame.DataFrame'>\n",
      "Int64Index: 3846 entries, 0 to 3949\n",
      "Data columns (total 3 columns):\n",
      " #   Column        Non-Null Count  Dtype \n",
      "---  ------        --------------  ----- \n",
      " 0   idx           3846 non-null   int64 \n",
      " 1   class         3846 non-null   object\n",
      " 2   conversation  3846 non-null   object\n",
      "dtypes: int64(1), object(2)\n",
      "memory usage: 120.2+ KB\n"
     ]
    }
   ],
   "source": [
    "train_data = train_data.drop_duplicates(subset='conversation')\n",
    "train_data.info()"
   ]
  },
  {
   "cell_type": "code",
   "execution_count": 11,
   "id": "c80bc1a3",
   "metadata": {},
   "outputs": [
    {
     "data": {
      "text/html": [
       "<div>\n",
       "<style scoped>\n",
       "    .dataframe tbody tr th:only-of-type {\n",
       "        vertical-align: middle;\n",
       "    }\n",
       "\n",
       "    .dataframe tbody tr th {\n",
       "        vertical-align: top;\n",
       "    }\n",
       "\n",
       "    .dataframe thead th {\n",
       "        text-align: right;\n",
       "    }\n",
       "</style>\n",
       "<table border=\"1\" class=\"dataframe\">\n",
       "  <thead>\n",
       "    <tr style=\"text-align: right;\">\n",
       "      <th></th>\n",
       "      <th>idx</th>\n",
       "      <th>conversation</th>\n",
       "    </tr>\n",
       "    <tr>\n",
       "      <th>class</th>\n",
       "      <th></th>\n",
       "      <th></th>\n",
       "    </tr>\n",
       "  </thead>\n",
       "  <tbody>\n",
       "    <tr>\n",
       "      <th>갈취 대화</th>\n",
       "      <td>973</td>\n",
       "      <td>973</td>\n",
       "    </tr>\n",
       "    <tr>\n",
       "      <th>기타 괴롭힘 대화</th>\n",
       "      <td>1011</td>\n",
       "      <td>1011</td>\n",
       "    </tr>\n",
       "    <tr>\n",
       "      <th>직장 내 괴롭힘 대화</th>\n",
       "      <td>970</td>\n",
       "      <td>970</td>\n",
       "    </tr>\n",
       "    <tr>\n",
       "      <th>협박 대화</th>\n",
       "      <td>892</td>\n",
       "      <td>892</td>\n",
       "    </tr>\n",
       "  </tbody>\n",
       "</table>\n",
       "</div>"
      ],
      "text/plain": [
       "              idx  conversation\n",
       "class                          \n",
       "갈취 대화         973           973\n",
       "기타 괴롭힘 대화    1011          1011\n",
       "직장 내 괴롭힘 대화   970           970\n",
       "협박 대화         892           892"
      ]
     },
     "execution_count": 11,
     "metadata": {},
     "output_type": "execute_result"
    }
   ],
   "source": [
    "train_data.groupby('class').count()"
   ]
  },
  {
   "cell_type": "code",
   "execution_count": 12,
   "id": "915a8a51",
   "metadata": {
    "scrolled": true
   },
   "outputs": [
    {
     "data": {
      "text/plain": [
       "'병신이 아이스크림 먹게 돼 있냐?\\n난 먹으면 안 돼? 그만 좀 해.\\n당연히 안 되지 너 공부 개못하는 찐따잖아.\\n야 닭대가리가 말도 하네 동물농장 나가자.\\n너네 학교폭력으로 신고하기 전에 그만 해.\\n아이고 무서워라 살려주세요 으헝헝\\n제발 좀 저리 가.\\n나였으면 아이스크림 먹을 시간에 공부한다.\\n멈춰!\\n저러니까 쳐맞고 다니지'"
      ]
     },
     "execution_count": 12,
     "metadata": {},
     "output_type": "execute_result"
    }
   ],
   "source": [
    "train_data.iloc[29,2]"
   ]
  },
  {
   "cell_type": "code",
   "execution_count": 13,
   "id": "a678c54b",
   "metadata": {},
   "outputs": [
    {
     "data": {
      "text/plain": [
       "'병신이 아이스크림 먹게 돼 있냐 난 먹으면 안 돼 그만 좀 해 당연히 안 되지 너 공부 개못하는 찐따잖아 야 닭대가리가 말도 하네 동물농장 나가자 너네 학교폭력으로 신고하기 전에 그만 해 아이고 무서워라 살려주세요 으헝헝 제발 좀 저리 가 나였으면 아이스크림 먹을 시간에 공부한다 멈춰 저러니까 쳐맞고 다니지'"
      ]
     },
     "execution_count": 13,
     "metadata": {},
     "output_type": "execute_result"
    }
   ],
   "source": [
    "import re\n",
    "\n",
    "def preprocess_document(document):\n",
    "    document = re.sub('[^ㄱ-ㅎ가-힣a-zA-Z0-9]', ' ', document)\n",
    "    document = re.sub(' +', ' ', document)\n",
    "    document = document.strip()\n",
    "    \n",
    "    return document\n",
    "\n",
    "\n",
    "preprocess_document(train_data.iloc[29,2])"
   ]
  },
  {
   "cell_type": "code",
   "execution_count": 14,
   "id": "2a98a91b",
   "metadata": {},
   "outputs": [
    {
     "name": "stdout",
     "output_type": "stream",
     "text": [
      "training was done. used memory 0.242 Gbry 0.172 Gb\n",
      "all cohesion probabilities was computed. # words = 13946\n",
      "all branching entropies was computed # words = 19894\n",
      "all accessor variety was computed # words = 19894\n"
     ]
    },
    {
     "data": {
      "text/plain": [
       "['병신',\n",
       " '이',\n",
       " '아이스크림',\n",
       " '먹게',\n",
       " '돼',\n",
       " '있냐',\n",
       " '난',\n",
       " '먹으면',\n",
       " '안',\n",
       " '돼',\n",
       " '그만',\n",
       " '좀',\n",
       " '해',\n",
       " '당연히',\n",
       " '안',\n",
       " '되지',\n",
       " '너',\n",
       " '공부',\n",
       " '개못하는',\n",
       " '찐따',\n",
       " '잖아',\n",
       " '야',\n",
       " '닭대가리가',\n",
       " '말도',\n",
       " '하네',\n",
       " '동물농장',\n",
       " '나가',\n",
       " '자',\n",
       " '너네',\n",
       " '학교',\n",
       " '폭력으로',\n",
       " '신고',\n",
       " '하기',\n",
       " '전에',\n",
       " '그만',\n",
       " '해',\n",
       " '아이고',\n",
       " '무서워',\n",
       " '라',\n",
       " '살려주세요',\n",
       " '으헝헝',\n",
       " '제발',\n",
       " '좀',\n",
       " '저리',\n",
       " '가',\n",
       " '나였으면',\n",
       " '아이스크림',\n",
       " '먹을',\n",
       " '시간',\n",
       " '에',\n",
       " '공부',\n",
       " '한다',\n",
       " '멈춰',\n",
       " '저러니',\n",
       " '까',\n",
       " '쳐맞고',\n",
       " '다니지']"
      ]
     },
     "execution_count": 14,
     "metadata": {},
     "output_type": "execute_result"
    }
   ],
   "source": [
    "from soynlp.word import WordExtractor\n",
    "from soynlp.tokenizer import LTokenizer\n",
    "\n",
    "corpus = train_data['conversation'].map(preprocess_document)\n",
    "\n",
    "word_extractor = WordExtractor()\n",
    "word_extractor.train(corpus)\n",
    "word_score_table = word_extractor.extract()\n",
    "\n",
    "scores = {word:score.cohesion_forward for word, score in word_score_table.items()}\n",
    "\n",
    "tokenizer = LTokenizer(scores=scores)\n",
    "tokenizer.tokenize(preprocess_document(train_data.iloc[29,2]))"
   ]
  },
  {
   "cell_type": "code",
   "execution_count": 15,
   "id": "26c9f3be",
   "metadata": {},
   "outputs": [
    {
     "data": {
      "text/html": [
       "<div>\n",
       "<style scoped>\n",
       "    .dataframe tbody tr th:only-of-type {\n",
       "        vertical-align: middle;\n",
       "    }\n",
       "\n",
       "    .dataframe tbody tr th {\n",
       "        vertical-align: top;\n",
       "    }\n",
       "\n",
       "    .dataframe thead th {\n",
       "        text-align: right;\n",
       "    }\n",
       "</style>\n",
       "<table border=\"1\" class=\"dataframe\">\n",
       "  <thead>\n",
       "    <tr style=\"text-align: right;\">\n",
       "      <th></th>\n",
       "      <th>index</th>\n",
       "      <th>class</th>\n",
       "      <th>conversation</th>\n",
       "    </tr>\n",
       "  </thead>\n",
       "  <tbody>\n",
       "    <tr>\n",
       "      <th>0</th>\n",
       "      <td>0</td>\n",
       "      <td>0</td>\n",
       "      <td>지금 너 스스로를 죽여달라고 애원하는 것인가?\\n 아닙니다. 죄송합니다.\\n 죽을 ...</td>\n",
       "    </tr>\n",
       "    <tr>\n",
       "      <th>1</th>\n",
       "      <td>1</td>\n",
       "      <td>0</td>\n",
       "      <td>길동경찰서입니다.\\n9시 40분 마트에 폭발물을 설치할거다.\\n네?\\n똑바로 들어 ...</td>\n",
       "    </tr>\n",
       "    <tr>\n",
       "      <th>2</th>\n",
       "      <td>2</td>\n",
       "      <td>3</td>\n",
       "      <td>너 되게 귀여운거 알지? 나보다 작은 남자는 첨봤어.\\n그만해. 니들 놀리는거 재미...</td>\n",
       "    </tr>\n",
       "    <tr>\n",
       "      <th>3</th>\n",
       "      <td>3</td>\n",
       "      <td>1</td>\n",
       "      <td>어이 거기\\n예??\\n너 말이야 너. 이리 오라고\\n무슨 일.\\n너 옷 좋아보인다?...</td>\n",
       "    </tr>\n",
       "    <tr>\n",
       "      <th>4</th>\n",
       "      <td>4</td>\n",
       "      <td>1</td>\n",
       "      <td>저기요 혹시 날이 너무 뜨겁잖아요? 저희 회사에서 이 선크림 파는데 한 번 손등에 ...</td>\n",
       "    </tr>\n",
       "  </tbody>\n",
       "</table>\n",
       "</div>"
      ],
      "text/plain": [
       "   index  class                                       conversation\n",
       "0      0      0  지금 너 스스로를 죽여달라고 애원하는 것인가?\\n 아닙니다. 죄송합니다.\\n 죽을 ...\n",
       "1      1      0  길동경찰서입니다.\\n9시 40분 마트에 폭발물을 설치할거다.\\n네?\\n똑바로 들어 ...\n",
       "2      2      3  너 되게 귀여운거 알지? 나보다 작은 남자는 첨봤어.\\n그만해. 니들 놀리는거 재미...\n",
       "3      3      1  어이 거기\\n예??\\n너 말이야 너. 이리 오라고\\n무슨 일.\\n너 옷 좋아보인다?...\n",
       "4      4      1  저기요 혹시 날이 너무 뜨겁잖아요? 저희 회사에서 이 선크림 파는데 한 번 손등에 ..."
      ]
     },
     "execution_count": 15,
     "metadata": {},
     "output_type": "execute_result"
    }
   ],
   "source": [
    "class_names = ['협박 대화', '갈취 대화', '직장 내 괴롭힘 대화', '기타 괴롭힘 대화']\n",
    "\n",
    "train_data = train_data[['class', 'conversation']]\n",
    "train_data['class'] = train_data['class'].map(lambda c: class_names.index(c))\n",
    "train_data = train_data.reset_index()\n",
    "\n",
    "train_data.head()"
   ]
  },
  {
   "cell_type": "markdown",
   "id": "8ce6a2f8",
   "metadata": {},
   "source": [
    "## 벡터화"
   ]
  },
  {
   "cell_type": "code",
   "execution_count": 16,
   "id": "b82d68b6",
   "metadata": {},
   "outputs": [
    {
     "name": "stdout",
     "output_type": "stream",
     "text": [
      "[[0. 0. 0. ... 0. 0. 0.]\n",
      " [0. 0. 0. ... 0. 0. 0.]\n",
      " [0. 0. 0. ... 0. 0. 0.]\n",
      " ...\n",
      " [0. 0. 0. ... 0. 0. 0.]\n",
      " [0. 0. 0. ... 0. 0. 0.]\n",
      " [0. 0. 0. ... 0. 0. 0.]]\n",
      "단어 개수: 33715\n"
     ]
    }
   ],
   "source": [
    "from sklearn.feature_extraction.text import TfidfVectorizer\n",
    "\n",
    "vocab_size = None\n",
    "\n",
    "vector = TfidfVectorizer(preprocessor=preprocess_document, \n",
    "                         tokenizer=tokenizer.tokenize,\n",
    "                         max_features=vocab_size)\n",
    "print(vector.fit_transform(train_data['conversation']).toarray())\n",
    "print(\"단어 개수:\", len(vector.vocabulary_))"
   ]
  },
  {
   "cell_type": "code",
   "execution_count": 17,
   "id": "7312c5d8",
   "metadata": {},
   "outputs": [],
   "source": [
    "x_data = vector.transform(train_data['conversation'])\n",
    "y_data = train_data['class']"
   ]
  },
  {
   "cell_type": "markdown",
   "id": "bfaa634c",
   "metadata": {},
   "source": [
    "# train step 및 평가 함수"
   ]
  },
  {
   "cell_type": "code",
   "execution_count": 18,
   "id": "9a63b7be",
   "metadata": {},
   "outputs": [],
   "source": [
    "from sklearn.metrics import classification_report\n",
    "\n",
    "def save_and_show_report(y_true, y_pred, prefix, show=True, zero_division=0):\n",
    "    report = classification_report(y_true, y_pred, zero_division=zero_division)\n",
    "    with open(BASE_DIR + '/' + prefix + '_report.txt', 'w') as f:\n",
    "        f.write(report)\n",
    "    if show:\n",
    "        print(report)"
   ]
  },
  {
   "cell_type": "code",
   "execution_count": 19,
   "id": "7754bd02",
   "metadata": {},
   "outputs": [],
   "source": [
    "from sklearn.metrics import confusion_matrix\n",
    "import seaborn as sns\n",
    "\n",
    "def graph_confusion_matrix(model, x_test, y_test, classes_name, prefix, show=True):\n",
    "    df_cm = pd.DataFrame(confusion_matrix(y_test, model.predict(x_test)), index=classes_name, columns=classes_name)\n",
    "    fig = plt.figure(figsize=(12,12))\n",
    "    heatmap = sns.heatmap(df_cm, annot=True, fmt=\"d\")\n",
    "    heatmap.yaxis.set_ticklabels(heatmap.yaxis.get_ticklabels(), rotation=0, ha='right', fontsize=12)\n",
    "    heatmap.xaxis.set_ticklabels(heatmap.xaxis.get_ticklabels(), rotation=45, ha='right', fontsize=12)\n",
    "    plt.ylabel('label')\n",
    "    plt.xlabel('predicted value')\n",
    "    plt.savefig(BASE_DIR + '/' + prefix + '_confusion.png')\n",
    "    if show:\n",
    "        plt.show()\n",
    "    else:\n",
    "        plt.close()"
   ]
  },
  {
   "cell_type": "code",
   "execution_count": 20,
   "id": "0e4da937",
   "metadata": {},
   "outputs": [],
   "source": [
    "def train_and_eval(model, x_train, y_train, x_val, y_val, prefix):\n",
    "    model.fit(x_train, y_train)\n",
    "    \n",
    "    save_and_show_report(y_train, model.predict(x_train), prefix + '_train', show=False)\n",
    "    graph_confusion_matrix(model, x_train, y_train, class_names, prefix + '_train', show=False)\n",
    "    \n",
    "    save_and_show_report(y_val, model.predict(x_val), prefix + '_val', show=False)\n",
    "    graph_confusion_matrix(model, x_val, y_val, class_names, prefix + '_val', show=False)\n",
    "    \n",
    "    return model"
   ]
  },
  {
   "cell_type": "code",
   "execution_count": 21,
   "id": "1c889d35",
   "metadata": {},
   "outputs": [],
   "source": [
    "def create_submission(model, prefix):\n",
    "    submission_data = []\n",
    "\n",
    "    for file_name, row in test_data.iterrows():\n",
    "        text = row['text']\n",
    "        _input = vector.transform([text])\n",
    "        predicted = model.predict(_input)[0]\n",
    "\n",
    "        submission_data.append({\n",
    "            'file_name': file_name,\n",
    "            'class': predicted\n",
    "        })\n",
    "    \n",
    "    submission_data = pd.DataFrame(submission_data)\n",
    "    submission_data.to_csv(prefix + '_submission.csv', index=False)"
   ]
  },
  {
   "cell_type": "markdown",
   "id": "03d6d1ae",
   "metadata": {},
   "source": [
    "# 모델 학습 및 평가"
   ]
  },
  {
   "cell_type": "code",
   "execution_count": 22,
   "id": "75eb2136",
   "metadata": {},
   "outputs": [],
   "source": [
    "from sklearn.naive_bayes import MultinomialNB #다항분포 나이브 베이즈 모델\n",
    "from sklearn.linear_model import LogisticRegression, SGDClassifier\n",
    "from sklearn.naive_bayes import ComplementNB\n",
    "from sklearn.tree import DecisionTreeClassifier\n",
    "from sklearn.ensemble import RandomForestClassifier\n",
    "from sklearn.ensemble import GradientBoostingClassifier\n",
    "from sklearn.ensemble import VotingClassifier\n",
    "from sklearn.svm import LinearSVC\n",
    "from sklearn.metrics import accuracy_score #정확도 계산\n",
    "\n",
    "models = [\n",
    "    (MultinomialNB, dict()),\n",
    "    (ComplementNB, dict()),\n",
    "    (LinearSVC, {'C': 1000, 'penalty': 'l1', 'max_iter': 50000, 'dual': False}),\n",
    "    (DecisionTreeClassifier, {'max_depth': 10}),\n",
    "    (RandomForestClassifier, {'n_estimators': 10, 'max_depth': 10}),\n",
    "    (GradientBoostingClassifier, dict())\n",
    "]"
   ]
  },
  {
   "cell_type": "code",
   "execution_count": 21,
   "id": "49b16e2a",
   "metadata": {},
   "outputs": [],
   "source": [
    "from sklearn.model_selection import KFold\n",
    "\n",
    "kfold = KFold(shuffle=True)"
   ]
  },
  {
   "cell_type": "code",
   "execution_count": 22,
   "id": "e4ead99e",
   "metadata": {},
   "outputs": [
    {
     "name": "stdout",
     "output_type": "stream",
     "text": [
      "MultinomialNB_0: 0.9613, 0.8571\n",
      "MultinomialNB_1: 0.9630, 0.8622\n",
      "MultinomialNB_2: 0.9591, 0.8531\n",
      "MultinomialNB_3: 0.9617, 0.8427\n",
      "MultinomialNB_4: 0.9626, 0.8505\n",
      "ComplementNB_0: 0.9746, 0.8338\n",
      "ComplementNB_1: 0.9737, 0.8674\n",
      "ComplementNB_2: 0.9714, 0.8752\n",
      "ComplementNB_3: 0.9727, 0.8752\n",
      "ComplementNB_4: 0.9724, 0.8570\n",
      "LinearSVC_0: 1.0000, 0.8506\n",
      "LinearSVC_1: 1.0000, 0.8192\n",
      "LinearSVC_2: 1.0000, 0.8166\n",
      "LinearSVC_3: 1.0000, 0.8218\n",
      "LinearSVC_4: 1.0000, 0.8036\n",
      "DecisionTreeClassifier_0: 0.6925, 0.6390\n",
      "DecisionTreeClassifier_1: 0.7049, 0.6112\n",
      "DecisionTreeClassifier_2: 0.7199, 0.6151\n",
      "DecisionTreeClassifier_3: 0.7095, 0.5839\n",
      "DecisionTreeClassifier_4: 0.6948, 0.5631\n",
      "RandomForestClassifier_0: 0.7207, 0.6325\n",
      "RandomForestClassifier_1: 0.7309, 0.6138\n",
      "RandomForestClassifier_2: 0.7150, 0.5995\n",
      "RandomForestClassifier_3: 0.7436, 0.6177\n",
      "RandomForestClassifier_4: 0.7332, 0.6177\n",
      "GradientBoostingClassifier_0: 0.9330, 0.7792\n",
      "GradientBoostingClassifier_1: 0.9308, 0.8336\n",
      "GradientBoostingClassifier_2: 0.9340, 0.7789\n",
      "GradientBoostingClassifier_3: 0.9292, 0.7984\n",
      "GradientBoostingClassifier_4: 0.9331, 0.7750\n"
     ]
    }
   ],
   "source": [
    "import os\n",
    "import time\n",
    "\n",
    "\n",
    "#BASE_DIR = time.strftime(\"%m%d-%H%M%S\", time.localtime())\n",
    "BASE_DIR = 'soynlp'\n",
    "os.mkdir(BASE_DIR)\n",
    "\n",
    "for Model, options in models:\n",
    "    for i, (train_indice, val_indice) in enumerate(kfold.split(x_data)):\n",
    "        model = Model(**options)\n",
    "        \n",
    "        x_train = x_data[train_indice]\n",
    "        y_train = y_data[train_indice]\n",
    "        x_val = x_data[val_indice]\n",
    "        y_val = y_data[val_indice]\n",
    "        \n",
    "        prefix = Model.__name__ + '_' + str(i)\n",
    "        model = train_and_eval(model, x_train, y_train, x_val, y_val, prefix)\n",
    "        \n",
    "        print(f'{prefix}: {accuracy_score(y_train, model.predict(x_train)):.4f}, {accuracy_score(y_val, model.predict(x_val)):.4f}')"
   ]
  },
  {
   "cell_type": "code",
   "execution_count": 24,
   "id": "88559544",
   "metadata": {},
   "outputs": [],
   "source": [
    "BASE_DIR = 'soynlp'\n",
    "\n",
    "options = dict()\n",
    "#options = {'C': 1000, 'penalty': 'l1', 'max_iter': 50000, 'dual': False}\n",
    "model = ComplementNB(**options)\n",
    "model = train_and_eval(model, x_data, y_data, x_data, y_data, 'CNB_final')\n",
    "create_submission(model, 'soynlp_CNB')"
   ]
  },
  {
   "cell_type": "code",
   "execution_count": 24,
   "id": "7a803d9c",
   "metadata": {},
   "outputs": [
    {
     "data": {
      "text/plain": [
       "dict_keys(['닌', '껄', '나', '뱃', '납', '값', '독', '회', '희', '학', '총', '고', '능', '얌', '뽑', '온', '란', '측', '권', '큰', '봉', '건', '본', '질', '네', '갈', '합', '냅', '몰', '뵈', '한', '닿', '벽', '났', '월', '전', '혼', '쳤', '깎', '닮', '뻔', '증', '래', '포', '꿔', '뻗', '힌', '쎄', '넉', '격', '녹', '우', '롱', '써', '줄', '답', '폰', '2', '맨', '량', '빡', '소', '육', '승', '형', '법', '꼰', '쿵', '토', '주', '설', '씹', '엿', '쯧', '블', '틴', '붙', '슈', '딸', '흐', '멈', '뿌', '손', '팀', '쩜', '추', '착', '현', '흥', '띠', '별', '잃', '름', '응', '놈', '있', '쓰', '극', '꿇', '말', '갇', '죽', '튀', '셔', '해', '끓', '졌', '꺄', '왠', '솔', '서', '히', '갖', '외', '옷', '두', '김', '땀', '웃', '썼', '씩', '웩', '석', '즉', '변', '럴', '핳', '껴', '사', '띄', '녁', '찢', '떡', '낮', '냄', '영', '녀', '컸', '워', '득', '린', '인', '깝', '쪼', '엄', '플', '톱', '싶', '층', '남', '퉁', '했', '징', '쩔', '시', '꽉', '자', '옥', '쳐', '빌', '밑', '궁', '긁', '교', '심', '텅', '뭔', '켜', '참', '데', '쭈', '탈', '뻥', '예', '습', '못', '북', '세', '챙', '멍', '폐', '언', '썻', '핫', '넥', '활', '어', '섭', '루', '연', '림', '찰', '차', '잇', '믿', '가', '여', '둬', '싸', '등', '킹', '윽', '도', '뺏', '취', '곱', '단', '빚', '막', '풀', '댁', '안', '털', '첨', '젊', '암', '걔', '출', '레', '괜', '염', '낳', '날', '않', '강', '왔', '채', '크', '꿀', '송', '턴', '찐', '려', '불', '뺀', '런', '긋', '꾼', '객', '놔', '필', '쥐', '접', '놓', '바', '쪄', '째', '청', '봐', '곤', '매', '씬', '넘', '쩍', '당', '첫', '뒀', '뚱', '즈', '힐', '늙', '헬', '휘', '호', '몸', '펜', '들', '쓴', '돋', '왤', '밥', '의', '앵', '깨', '모', '옮', '혀', '결', '딴', '싫', '키', '색', '좋', '꾸', '걷', '냈', '테', '메', '체', '뜯', '빛', '산', '케', '국', '를', '퍽', '굼', '끊', '달', '흑', '위', '푸', '운', '디', '쉽', '반', '딱', '슴', '팔', '칼', '쯤', '밟', '뇌', '욕', '검', '계', '깔', '액', '원', '초', '미', '폼', '울', '화', '폭', '밝', '얻', '핸', '저', '면', '짐', '표', '짝', '약', '황', '노', '둑', '와', '잘', '뒷', '샤', '굳', '융', '옳', '냥', '민', '마', '밤', '카', '눈', '로', '알', '춤', '촌', '휴', '떼', '파', '뚫', '즘', '러', '급', '잖', '탓', '6', '혈', '악', '갚', '곧', '뇨', '굴', '에', '친', '덮', '줬', '느', '밀', '찔', '페', '점', '짱', '입', '녕', '각', '며', '텨', '류', '탑', '니', '랄', '씨', '왕', '클', '5', '절', '벙', '꿈', '굶', '땡', '랑', '으', '앉', '복', '내', '똥', '탄', '튼', '볼', '숙', '돕', '촉', '효', '맥', '농', '삭', '패', '중', '백', '밖', '님', '맡', '슬', '늘', '범', '껏', '듣', '덜', '공', '무', '올', '덕', '진', '최', '브', '든', '쟤', '꼴', '돈', '썩', '뵙', '리', '족', '틱', '택', '깐', '센', '박', '척', '간', '쓸', '1', '론', '풍', '직', '아', '된', '애', '좀', '특', '은', '높', '지', '트', '명', '찌', '펴', '맛', '없', '낫', '존', '뽀', '먼', '컴', '혐', '쏴', '부', '힘', '생', '신', '료', '종', '확', '떤', '겁', '0', '쉬', '행', '닥', '헛', '터', '발', '튕', '좁', '야', '벼', '갑', '쌀', '순', '듯', '책', '드', '톡', '닐', '걸', '떨', '잡', '너', '보', '9', '쿨', '빙', '텔', '귀', '압', '땐', '길', '꺼', '믹', '짜', '축', '티', '끝', '겨', '좆', '험', '겪', '놀', '맞', '찬', '낸', '할', '완', '푼', '침', '관', '3', '휠', '억', '뜨', '빈', '잔', '횡', '례', '망', '것', '넌', '십', '8', '쌤', '팍', '근', '깟', '텐', '술', '몽', '왼', '뭘', '처', '감', '개', '논', '묶', '머', '싹', '둘', '옆', '환', '윗', '퍼', '짓', '걱', '금', '견', '쇼', '베', '숨', '장', '용', '투', '태', '군', '됩', '팥', '적', '촬', '섞', '양', '젓', '딜', '함', '동', '넨', '하', '일', '삶', '코', '물', '옛', '덩', '춰', '귓', '비', '누', '팟', '퇴', '윤', '선', '홍', '룩', '통', '냐', '쵸', '난', '엘', '후', '집', '잉', '넷', '낙', '곳', '괴', '정', '타', '탕', '뼈', '충', '봤', '뺐', '훔', '덤', '만', '요', '되', '캡', '성', '팩', '기', '뒤', '끔', '쫓', '유', '분', '헤', '짤', '병', '람', '픈', '력', '판', '샌', '훼', '묻', '빼', '품', '배', '뛰', '쌓', '목', '빨', '릴', '줘', '끈', '씻', '던', '깍', '탁', '왜', '새', '쫄', '앨', '커', '겠', '칠', '꼼', '럼', '을', '엉', '찾', '업', '뿔', '좌', '넣', '실', '따', '쪽', '픽', '냉', '다', '벌', '때', '읽', '거', '떠', '빠', '봅', '쐬', '창', '많', '그', '뭣', '상', '흉', '컨', '몇', '잤', '빽', '핵', '벅', '7', '치', '흔', '혹', '뉴', '젠', '익', '삐', '수', '규', '항', '께', '대', '닦', '팬', '꽤', '받', '같', '음', '협', '콩', '쏘', '낼', '쏟', '킬', '허', '천', '콘', '립', '됐', '스', '슨', '눌', '핑', '라', '킥', '둔', '킨', '뭐', '문', '먹', '죠', '찍', '즐', '닫', '깡', '엎', '씀', '는', '오', '싼', '삼', '른', '죄', '짬', '준', '버', '틀', '팅', '살', '까', '움', '짖', '칭', '쑤', '댓', '임', '멀', '앞', '얼', '조', '탔', '껌', '졸', '4', '빵', '맘', '작', '뭡', '프', '록', '쩐', '샀', '철', '똑', '땅', '끌', '쁜', '될', '얘', '광', '방', '구', '홀', '평', '속', '벗', '릎', '됬', '락', '끄', '져', '열', '쌍', '피', '식', '겐', '콜', '큼', '딩', '흠', '욱', '년', '짧', '재', '편', '꼬', '뿐', '더', '이', '담', '깜', '게', '역', '싱', '경', '썰', '돌', '엔', '멋', '잠', '번', '돼', '쿠', '훨', '흘', '제', '잊', '끼', '깊', '과', '또', '뜻', '긴', '갔', '글', '뻐', '꽂', '늦', '션', '캐', '놨', '혜', '골', '천원', '반성', '본인', '넣고', '고마', '것이', '와라', '농구', '행사', '축구', '등급', '카메', '글씨', '차라', '취미', '썼어', '올린', '보이', '동네', '질문', '막아', '계시', '등신', '치지', '캡쳐', '베트', '의사', '키웠', '찬호', '빵사', '폭파', '묶어', '계속', '비싸', '창의', '굴려', '연습', '또라', '귀여', '칼은', '노력', '그래', '강대', '했어', '도움', '돕고', '놈이', '졸렬', '수도', '명심', '착각', '꾸지', '거지', '민선', '두번', '봐라', '골라', '않은', '축하', '새로', '옷만', '곳으', '왜이', '할거', '스트', '살려', '뭐하', '통장', '술한', '도둑', '감사', '폭탄', '찍으', '6시', '맞고', '외모', '멋대', '온거', '모든', '큰돈', '엎드', '저희', '말고', '뛰어', '말을', '있다', '잡고', '갖다', '밀려', '짓이', '중에', '함부', '때문', '국물', '좋을', '참고', '느리', '참여', '컸네', '함께', '명품', '좋아', '어디', '라떼', '뜨겁', '망하', '현우', '법적', '된거', '홍당', '때리', '되겠', '점심', '동안', '씨씨', '와봐', '외국', '밀린', '쌍수', '되는', '밤길', '토나', '행동', '생각', '술도', '쉬고', '언제', '호두', '식으', '결혼', '낳은', '실수', '크다', '퍼트', '웃기', '폭력', '갚아', '입고', '둘다', '급한', '주제', '없으', '쓰면', '곳에', '걷는', '쪽에', '뭘그', '민폐', '싹다', '취급', '죽일', '백화', '봐도', '선배', '남의', '피곤', '밤마', '멈춰', '씻는', '담당', '샤워', '호텔', '주세', '순간', '낮은', '할머', '말씀', '암튼', '술먹', '합의', '이런', '봤지', '소문', '고생', '맞으', '송대', '블로', '역겹', '확인', '찍고', '관두', '놀아', '양아', '때까', '올리', '잖아', '써서', '관심', '헤어', '국가', '받는', '독약', '늘어', '채우', '9시', '남자', '안되', '잠을', '큰일', '찾으', '전에', '깔끔', '틴트', '취업', '만들', '참나', '시간', '뿐인', '손가', '으이', '싶으', '서로', '콩팥', '판단', '별로', '매번', '알려', '많은', '모른', '왕따', '샀다', '낳고', '적이', '가족', '은지', '하겠', '싫다', '멀리', '구하', '철수', '스타', '분명', '왜그', '만원', '봐서', '싸구', '머리', '애초', '떠나', '4년', '바꿔', '강인', '알았', '창문', '병원', '부탁', '형이', '동료', '매일', '낫겠', '위치', '값이', '선택', '촬영', '그럼', '딸이', '딸을', '잘못', '운동', '엄청', '글쎄', '깎아', '감옥', '폰을', '붙어', '줄테', '댓글', '교복', '씨는', '급해', '동의', '망가', '성희', '악플', '빠듯', '했잖', '뵈는', '직원', '전달', '그만', '딱딱', '왔나', '금요', '뒤에', '몸에', '샀냐', '배고', '느려', '자식', '민지', '해줄', '목걸', '태도', '카페', '누나', '흉내', '총으', '돈이', '않을', '푼도', '한대', '뒤질', '멋지', '쓰고', '심한', '딱봐', '죽고', '벌써', '검사', '땡땡', '엉덩', '방해', '근데', '간식', '드릴', '7만', '쫓아', '알아', '쓸만', '키가', '겁나', '끼어', '한번', '줬으', '회사', '청소', '저도', '놓고', '꼬라', '화내', '며칠', '완벽', '채워', '드리', '늦으', '취직', '뺏어', '연차', '갑자', '몇살', '딱히', '다른', '미쳤', '투자', '버리', '임신', '단체', '깝치', '닮았', '구해', '게시', '틀려', '남친', '늦을', '벗어', '위험', '싹싹', '믿는', '뜻은', '줘야', '금고', '속에', '네가', '서비', '같습', '빼면', '복장', '세금', '관계', '장난', '머라', '꺄악', '싫으', '쳐다', '세탁', '되지', '이번', '크윽', '차장', '몰래', '와서', '뿌린', '멈추', '뽑히', '곤란', '데려', '망신', '맘충', '놀려', '법대', '뿌릴', '빠지', '막혀', '쥐도', '맞지', '바보', '논문', '흐윽', '쫄았', '뽑아', '싸게', '울지', '범죄', '더럽', '귓구', '걸로', '낸다', '낙하', '누구', '치고', '평가', '일을', '본거', '따위', '정리', '쳤다', '나는', '되나', '출산', '작아', '뒤지', '기다', '챙겨', '갔다', '통금', '죽는', '만만', '학원', '쇼핑', '몸이', '빼는', '기회', '싶은', '오해', '주말', '환장', '있으', '짐승', '허락', '워크', '피부', '쏴버', '버려', '꺼져', '파일', '꼴을', '할게', '숨기', '쉽게', '터지', '넘었', '질러', '냄새', '라면', '십만', '대로', '아니', '증거', '봐봐', '몇번', '패딩', '야이', '왔어', '퇴근', '샀는', '달에', '삭제', '빼고', '왔으', '코끼', '드려', '맘이', '출근', '딸한', '신고', '2만', '놈들', '늙어', '층간', '억울', '네네', '윗사', '게임', '최선', '잡았', '내일', '권리', '합니', '놀이', '맛이', '흥분', '영상', '씻고', '단순', '천국', '예의', '평소', '딸도', '경고', '전부', '눈을', '웃으', '행복', '뚫린', '깡패', '듣네', '왜요', '좁아', '문열', '털어', '돌아', '올려', '택배', '공짜', '졸업', '줬다', '봐야', '확씨', '동생', '예민', '갚겠', '컴퓨', '싫어', '호호', '답답', '육아', '니네', '중국', '찍혔', '걔네', '잃을', '씨발', '멀어', '밀어', '설거', '술집', '눈에', '반응', '좀더', '발언', '힘들', '의심', '누가', '뒤져', '퍼뜨', '터트', '적게', '대체', '7시', '입니', '집에', '미안', '돈은', '울겠', '몰랐', '먹어', '목소', '발로', '움직', '유전', '진짜', '찍는', '부모', '규정', '믿지', '전화', '구매', '수정', '계좌', '먼저', '줘라', '차비', '놓아', '있을', '욕하', '벗겨', '커피', '놀리', '운영', '참아', '민우', '끝내', '붙여', '없다', '칼들', '해보', '뭣도', '때려', '찐따', '혈액', '팔다', '책임', '으악', '옷차', '디자', '겠어', '간호', '치워', '다음', '빠른', '남아', '2배', '점수', '역시', '프로', '했지', '인터', '꼬마', '굶고', '응응', '명령', '걸리', '현재', '꺼내', '꾸미', '빌려', '구라', '들고', '휠체', '체육', '죽을', '실적', '부장', '허튼', '돈없', '서있', '흔들', '열받', '존중', '목숨', '70', '잊지', '국밥', '욕심', '할때', '환불', '생긴', '죄송', '받고', '착해', '자리', '워낙', '그렇', '온다', '맡아', '넣었', '된다', '서류', '유명', '등교', '점장', '막말', '낫지', '받아', '타는', '허구', '뜨고', '못하', '공지', '끌어', '술이', '흑흑', '넘길', '잘하', '초과', '왠지', '증인', '퇴사', '고소', '써주', '추운', '친구', '암호', '먹었', '탓이', '딱이', '6개', '형님', '표정', '잊었', '질리', '풀리', '썰어', '숨어', '씨가', '선물', '안돼', '와보', '귀엽', '맡기', '소리', '예뻐', '처리', '해주', '관련', '결제', '로미', '조심', '될텐', '풀어', '식당', '놔주', '챙피', '음주', '으윽', '옥상', '벌레', '초면', '싶어', '골프', '꺼지', '임산', '번째', '이거', '벌점', '양보', '영업', '편하', '잡종', '꽤나', '써와', '태워', '토달', '왔다', '봤다', '것만', '준비', '울어', '농담', '3만', '벙어', '예쁜', '배신', '나한', '급이', '달라', '뭔소', '40', '던져', '쪽으', '성적', '봐주', '끝날', '조금', '당연', '되게', '운이', '별이', '생일', '스컹', '즐기', '짤리', '적어', '배가', '외상', '한다', '패버', '달려', '떠들', '본데', '쑤셔', '버릴', '특별', '줄게', '믿을', '인생', '화장', '외에', '와이', '금방', '물건', '변경', '굴러', '될거', '물어', '30', '받은', '계산', '겨우', '업무', '쯧쯧', '타고', '뿐만', '낙태', '밥도', '영화', '놈아', '반말', '칭찬', '셔틀', '발전', '메일', '김대', '훼손', '출신', '니가', '않으', '노래', '될까', '출장', '인정', '크크', '뜯어', '분이', '유지', '식사', '중간', '참석', '걸어', '방금', '더이', '끝나', '잠시', '위해', '비밀', '갑시', '서운', '덕분', '큰소', '찍을', '갔잖', '갈아', '신경', '느껴', '노트', '6만', '당장', '보여', '으응', '자기', '않았', '닥치', '혼나', '립스', '앞에', '놔줘', '돈좀', '임원', '괴롭', '변명', '45', '중요', '세상', '닮아', '국어', '걷어', '귀도', '소중', '후배', '말이', '난다', '밝혀', '윗분', '거야', '찌그', '호구', '형들', '되잖', '날이', '윗집', '휴대', '5분', '경찰', '개인', '몇년', '꼴이', '얌전', '추천', '강남', '맘대', '돈을', '짱깨', '병신', '요즘', '늦게', '혹시', '만나', '일로', '촌스', '흘려', '겁대', '완성', '구역', '닦아', '각서', '둘째', '예전', '채용', '술마', '합시', '깔고', '갚으', '요새', '웃겨', '돼요', '밑에', '번에', '두고', '에휴', '허리', '빌리', '갈수', '최대', '원하', '삼만', '녹음', '얼른', '꼬박', '팀장', '필요', '칼을', '벌어', '따로', '분질', '사장', '일이', '교육', '대신', '수가', '옆집', '저기', '찌를', '팀원', '먹는', '척하', '난쟁', '메뉴', '별일', '돈도', '웃긴', '싸오', '걸렸', '외로', '간다', '복잡', '창고', '협박', '남편', '숨쉬', '50', '좋게', '버스', '낮게', '엄마', '3일', '넉넉', '뻔히', '은행', '번만', '따라', '끌고', '애가', '갈까', '봐줘', '박혀', '테니', '20', '찌른', '장애', '똑같', '몇개', '좋은', '작은', '추가', '척이', '뭘로', '꼬맹', '복수', '이렇', '뭔지', '통하', '신발', '울리', '칼로', '토를', '산에', '믹스', '밝히', '리모', '콘서', '까라', '쉬어', '쟤는', '넣으', '솔직', '처신', '단단', '상대', '버렸', '체크', '설명', '약간', '밀었', '처음', '조용', '밖에', '몸을', '앵무', '듣는', '역겨', '본사', '곳이', '송금', '교통', '식구', '옷도', '능력', '먹으', '돌려', '대답', '일단', '싶지', '희생', '팔아', '오늘', '뭘하', '거기', '심부', '쪽팔', '갖고', '관리', '빠르', '굳이', '됩니', '총각', '줄래', '벼텨', '대리', '이러', '평생', '얘기', '쟤랑', '간이', '믿어', '파스', '쓰는', '잃었', '빡치', '의견', '뿌려', '올릴', '빵좀', '나랑', '법이', '덩치', '끝까', '감히', '눌러', '마무', '나도', '에이', '끝났', '매점', '맡겨', '등록', '유포', '스토', '짤라', '진정', '승민', '뭔가', '하고', '호주', '논다', '나오', '훔친', '갔는', '김사', '놀러', '욕이', '챙기', '작업', '크게', '영희', '뿌리', '밖으', '형한', '앞으', '먹을', '동기', '있어', '건드', '느낌', '야야', '열어', '몸매', '볼거', '놀다', '음식', '건데', '치는', '검은', '교수', '과장', '다니', '환자', '힘든', '왔네', '학교', '속이', '빽으', '바쁜', '닥쳐', '납치', '불러', '카드', '개새', '너네', '밝은', '치료', '제대', '치마', '몸으', '싫은', '끝이', '대학', '쓴거', '찢어', '입사', '해서', '훨씬', '야근', '속상', '느끼', '될지', '않겠', '부르', '주면', '넘기', '징계', '막무', '뚱땡', '1시', '반지', '틀렸', '의도', '후회', '애들', '택시', '상사', '5천', '울보', '뒷담', '번도', '현금', '듣겠', '혼자', '민수', '고객', '촉박', '훔치', '피하', '깨지', '압니', '너가', '형씨', '그러', '차리', '컸다', '놈은', '꼬리', '건가', '참았', '배려', '붙잡', '엿먹', '도망', '설탕', '차가', '걸레', '명예', '담배', '쓸데', '정말', '텐데', '끓여', '챙길', '쓸모', '편의', '욕먹', '회의', '옛날', '얼마', '푸하', '얻어', '맛없', '매장', '프라', '무슨', '포기', '직접', '책상', '굶어', '귀에', '못생', '돼지', '욕을', '양반', '입금', '찔리', '얼굴', '칼이', '낳아', '쓴다', '넣을', '더는', '놀고', '늦은', '뭐라', '갚을', '빨리', '열심', '게이', '튀어', '날리', '거짓', '산다', '코로', '두개', '샌드', '밀리', '업체', '끼치', '감정', '걔가', '헬멧', '그런', '강도', '양이', '쌤이', '건들', '뜻이', '회식', '잠깐', '유튜', '클럽', '받았', '허허', '키우', '잔말', '민철', '바로', '자꾸', '월요', '음료', '종이', '했다', '틀리', '초등', '수술', '다시', '월세', '쳐박', '정신', '중이', '그냥', '용서', '싸우', '차려', '빼라', '동영', '너도', '단무', '혀를', '겠다', '내가', '쓸게', '왔는', '많아', '똑똑', '본다', '먹고', '80', '바빠', '폰으', '적당', '않습', '옆에', '승진', '저는', '듣지', '날짜', '충분', '땅콩', '밤새', '징그', '리뷰', '통화', '하는', '편지', '의미', '빼야', '파는', '잡아', '믿겠', '났어', '침해', '알고', '쉬는', '테이', '파악', '썩은', '입을', '순진', '결정', '어머', '먼지', '골로', '왕인', '낳으', '방에', '재미', '여기', '놓으', '던진', '추워', '현실', '언니', '볼까', '타이', '맞는', '엉망', '시키', '제가', '못해', '타오', '바람', '짜증', '넣어', '외근', '뽑았', '샀어', '생겼', '약속', '따박', '천천', '깨끗', '죽이', '빠져', '유출', '줬잖', '새끼', '욕은', '용돈', '양심', '뭔데', '겪어', '떼어', '기억', '정도', '골목', '짓을', '도대', '등산', '슬슬', '뻔뻔', '예쁘', '꼰대', '틱장', '도와', '10', '컴플', '초대', '흑인', '문제', '타와', '뿐이', '윤아', '콜라', '죽여', '뺏는', '상황', '볼게', '완전', '쳐먹', '알겠', '터져', '늦었', '벗으', '화가', '집이', '짝꿍', '핸드', '담아', '분위', '지금', '찍은', '망치', '들어', '문자', '맘에', '민주', '프리', '원래', '떡볶', '말해', '절대', '맞아', '괜히', '뉴스', '궁금', '억지', '않아', '몰라', '5만', '본가', '때는', '항상', '마세', '출발', '2시', '쟤가', '혐오', '호흡', '같아', '당신', '듣고', '썼다', '근무', '염산', '웃어', '강냉', '술을', '앉아', '후에', '좀전', '설치', '판매', '태어', '찌질', '은혜', '비싼', '놔요', '냉장', '폭행', '떠는', '안녕', '화나', '멍청', '어제', '꼴도', '쿵쿵', '위한', '주시', '눈깔', '착용', '한거', '밥이', '컨디', '싸인', '존나', '흐흐', '찍어', '뚱뚱', '받으', '마시', '각오', '짧아', '귀가', '까불', '이게', '될것', '깜빡', '하나', '불편', '박대', '레벨', '내놔', '사람', '단가', '같은', '줬어', '앉으', '험한', '인간', '너무', '직장', '옷은', '수업', '심해', '좀있', '봉투', '했는', '손님', '강제', '선생', '밤에', '몽둥', '다리', '1억', '여보', '봤는', '저번', '폭발', '최고', '강매', '꿀꿀', '까지', '뿐입', '카톡', '녀석', '갔어', '임마', '위에', '됐다', '장사', '면상', '데리', '교환', '속도', '넥타', '써보', '헛소', '별거', '배우', '것도', '됐고', '더러', '막내', '없어', '숙제', '됐지', '손목', '해줘', '짓거', '들었', '끊어', '급하', '위생', '길동', '옷이', '자네', '뭘했', '복사', '47', '떨어', '존재', '곱게', '뽑는', '갚는', '피해', '취소', '으아', '삭발', '단정', '입어', '옮겨', '섭섭', '있는', '싶냐', '군생', '보내', '신입', '색깔', '쓰레', '싶다', '외삼', '까발', '짧은', '간단', '어떻', '해야', '약이', '군대', '누군', '4시', '찾아', '죽어', '쉬지', '발표', '작작', '밥먹', '점이', '공부', '팩트', '멀쩡', '흐리', '겁니', '뭐야', '확실', '무서', '젊은', '속옷', '팔았', '없는', '납품', '놓을', '데이', '높은', '얘들', '둘이', '맞을', '뭐가', '천만', '곳인', '하면', '결과', '여자', '분들', '싸가', '타서', '십원', '괜찮', '살아', '키워', '기분', '방법', '인사', '망했', '잃어', '탕비', '백원', '어이', '쳐맞', '희정', '가져', '적은', '번호', '맛있', '픽업', '운전', '굴어', '삼촌', '줘봐', '삼백', '난리', '붙이', '휴가', '규칙', '노인', '집안', '잘해', '산거', '해봐', '나가', '미친', '가서', '티켓', '셔츠', '권한', '옷을', '쪽이', '튀면', '우리', '귀머', '귀찮', '좋겠', '날인', '꼴에', '써야', '빠졌', '일하', '봤어', '늙은', '뻔하', '모르', '알지', '티내', '것들', '의지', '이제', '마음', '실력', '찌르', '백만', '작성', '면담', '살고', '말하', '틀린', '8시', '똑바', '핑계', '튕기', '딸은', '졸라', '창피', '팔이', '늦어', '공개', '예약', '면목', '꼴보', '스스', '연락', '단톡', '갈게', '훔쳐', '허가', '비켜', '같이', '쳤으', '유치', '배달', '심하', '훔쳤', '다녀', '코가', '팀에', '쏟아', '봅시', '빠진', '젓가', '글러', '학생', '계약', '띄지', '불쌍', '발라', '맡긴', '털리', '넘어', '편해', '일도', '속아', '라고', '면접', '장기', '의원', '옮기', '순순', '서울', '뭘요', '떼워', '설마', '상관', '실망', '너는', '봤나', '굼벵', '토요', '걱정', '양해', '착하', '질질', '좀만', '올라', '날아', '깍아', '포장', '박과', '뭡니', '재밌', '센스', '끼고', '마지', '멋있', '완료', '묻어', '하지', '갔을', '넘겨', '착한', '강아', '맨날', '대화', '오빠', '눈이', '시끄', '제발', '가지', '준다', '묻는', '00', '쪼잔', '드렸', '손에', '역할', '날로', '월급', '박스', '숨겨', '크지', '걸린', '볼일', '됐어', '줬는', '금액', '융통', '믿고', '씻어', '많이', '박사', '눈치', '길이', '굴지', '냅둬', '단골', '폭로', '싸이', '뜨거', '년이', '보고', '꿈도', '갈거', '얘가', '찔러', '듣기', '맛집', '영수', '쓸거', '찍었', '성격', '닮은', '가만', '검토', '재수', '생겼냐', '노인네', '말해줘', '칭찬이', '기회를', '저번부', '가져가', '저작권', '머하냐', '얼굴에', '고생했', '않을거', '바람을', '떨어뜨', '벗으라', '않았나', '때리는', '괜찮지', '삭제해', '만원이', '오늘부', '불쾌하', '협박하', '빌린다', '없으니', '정말입', '되겠네', '김선생', '열받게', '제출하', '나가서', '야근해', '책임감', '걱정말', '2시간', '만만해', '했으면', '한달만', '계좌로', '가져갔', '부탁인', '자격이', '갚을거', '고픈데', '신고할', '만나면', '저보다', '비싸보', '생각했', '대해서', '가려고', '다니니', '사준거', '큰소리', '웃기지', '꼬마야', '자기들', '못들었', '그렇지', '신상이', '없도록', '시험이', '되시나', '먹어봐', '기대해', '눈치도', '말할때', '운동할', '커피타', '중요해', '차리고', '축하드', '해줄수', '누구신', '못생겨', '얘기한', '들어서', '들어줘', '건들면', '어때요', '봐주세', '알려주', '끝나서', '원장님', '좋아서', '기다린', '안대리', '자리가', '애들한', '괴롭힘', '잘할게', '맞다고', '비상금', '인사고', '스타일', '다니던', '뭔가요', '현금이', '맛있어', '가게는', '시간은', '세상이', '귀머거', '말했어', '맛있는', '협박을', '돌려줘', '왜이렇', '앵무새', '들리겠', '뒤룩뒤', '상황에', '장난하', '필요해', '길바닥', '나오지', '무시해', '지갑이', '건가요', '한율이', '친구니', '모자란', '니들이', '아니냐', '우리아', '우습게', '연락해', '대리님', '말던가', '책상에', '갔다와', '발설하', '꾸지마', '알아서', '하루에', '집에는', '때리기', '팔아버', '부러져', '할소리', '말씀해', '오기전', '오후까', '실력이', '건들이', '당연한', '부르면', '잘됐다', '부탁드', '노트북', '손님이', '피시방', '알았는', '돈으로', '만드는', '갈거야', '사소한', '시킨거', '말귀를', '해야하', '뒷담화', '죽이는', '받은거', '남자들', '삼백충', '살아있', '서있어', '해주지', '주는게', '승진해', '기획안', '얼굴이', '틀린말', '나이가', '실수로', '팀에서', '1시간', '쓰라고', '위험하', '장소로', '나에게', '받아가', '적어도', '냉장고', '강냉이', '200', '좋아해', '부모님', '보내는', '비싼건', '드라마', '살아라', '빠져나', '기사로', '어떨까', '감옥에', '저번달', '말해서', '믿어주', '뭐하러', '했었어', '씨씨티', '대단한', '계좌번', '시켰다', '보태주', '같으면', '낳아서', '제출한', '만큼은', '어이없', '지난주', '하나씩', '학생들', '자랑하', '이번에', '초등학', '지수야', '인간이', '하하하', '학원가', '많잖아', '됐는데', '세상에', '그런데', '작성해', '연락도', '않았는', '데리러', '순순히', '고생한', '나가라', '아닌거', '도둑질', '진행하', '없어지', '줘야지', '있으세', '정도면', '오천원', '업무도', '부탁해', '심하세', '말씀하', '좋잖아', '부르시', '대리가', '연차를', '호구로', '어려우', '들어있', '죽겠는', '성격이', '애플워', '됐잖아', '30분', '도와준', '인상이', '골프채', '없으세', '죽어볼', '2배로', '들어야', '혹시나', '모르시', '결혼도', '심하시', '진정해', '부족한', '두고보', '처리하', '이래서', '메일로', '어렵습', '하지마', '원해서', '무슨소', '남겨와', '벗어봐', '거라고', '좋겠는', '신경쓰', '안되는', '불쌍하', '우리의', '한다는', '찍었어', '민주씨', '쳐다보', '할것이', '번째야', '그러시', '계신데', '마누라', '싶은가', '미안합', '기다릴', '사진이', '도망갔', '여자한', '재미있', '연락이', '고장나', '박주임', '입으로', '어때서', '무슨짓', '봐주는', '김마리', '안녕히', '연락드', '어쩌려', '연락하', '죽이기', '했다고', '싶으면', '지갑에', '어디서', '머리카', '말한건', '자료는', '길동이', '결정하', '해주실', '뭡니까', '딸에게', '떨어진', '하나는', '어울리', '꼬박꼬', '얼굴만', '남자에', '가려서', '해줄게', '방법을', '퇴근시', '빌려줬', '억울해', '명심하', '생겨서', '촉박해', '하세요', '뵈는게', '이기적', '후회하', '생각해', '회사생', '정규직', '아이고', '돈없으', '되잖아', '하잖아', '뭐라하', '생일인', '죄송한', '생신이', '시간을', '없어요', '건방지', '할까요', '해야해', '나쁘게', '하더라', '글쎄요', '다름이', '때려봐', '약속있', '시계는', '안되면', '계좌에', '않을까', '보이네', '개새끼', '다음부', '쓰래기', '걱정마', '나가는', '머리에', '지금이', '출장가', '가겠습', '못받았', '올릴거', '문제집', '없구나', '휴가야', '누구는', '리모델', '다니지', '잘못해', '삼촌이', '아니라', '나왔습', '안하는', '취소하', '안보내', '편의점', '끝나는', '하여튼', '엄마한', '따라가', '새끼들', '들어갔', '부분이', '됐고요', '괜찮겠', '통하시', '때문인', '같던데', '당신을', '오늘만', '인수인', '설명해', '죽이러', '모르네', '않아서', '엿먹이', '알아봤', '자네는', '사과해', '치마가', '누가그', '저번이', '진짜로', '옷차림', '쪼잔하', '뽑아버', '먹으려', '싫습니', '바쁜척', '왕인거', '간호사', '각오하', '당신네', '로미씨', '사용하', '바쁘다', '알았다', '때문이', '모릅니', '머리도', '임신이', '보내주', '5천만', '니네집', '결혼해', '그렇게', '매점가', '어쩌나', '새끼를', '새벽에', '거리는', '하겠습', '안하면', '욕하지', '저번주', '해결하', '어떡할', '밀어버', '나때는', '반말하', '보이는', '다닌다', '민서씨', '달라고', '죽겠네', '달달한', '환자가', '처리해', '선배가', '따라한', '부르겠', '지랄이', '안되어', '전재산', '신청했', '하나요', '불쾌해', '맞고싶', '쿵쿵거', '고객센', '걸렸다', '문열어', '인스타', '없을까', '맞고줄', '소중한', '보자보', '다니겠', '도시락', '되겠다', '살았어', '천천히', '몰라도', '안보여', '손으로', '신입들', '당신들', '귀여운', '드럽게', '자식을', '우리랑', '담당이', '말라고', '확인해', '상대해', '겁니까', '회사를', '정확히', '도와줄', '살인자', '먹으면', '싶습니', '지겹다', '못생긴', '사주신', '인사를', '알겠으', '궁금한', '중입니', '김주임', '뭐하나', '갚을게', '우리한', '숨겨놓', '허튼짓', '느낌이', '청소부', '그리고', '정신을', '병신같', '있을거', '못받아', '어쩌다', '정과장', '강제로', '조만간', '안보이', '정신이', '나머지', '오타쿠', '신기하', '7만원', '잖아요', '일하고', '애들을', '때마다', '너네는', '받은건', '강인턴', '안되서', '사줄게', '살려줄', '당신이', '살려주', '신고를', '입어보', '올리는', '스컹크', '머라고', '내일은', '사실이', '태어나', '이상하', '찢어버', '빌려주', '보자고', '지쳤어', '눈앞에', '눈으로', '남한테', '어쩌겠', '교수님', '납치해', '있는게', '믿겠어', '연습해', '윗분들', '뚱땡이', '그것도', '돼지야', '주차하', '어딨는', '고객님', '했는지', '뭐했어', '땡땡씨', '책임져', '김사장', '친구끼', '노력한', '심심해', '뜨거운', '놔주세', '해주라', '다시해', '미안한', '엄마랑', '너말고', '하나가', '하십니', '자리를', '죽여버', '기간이', '잘생겼', '죽었다', '미친년', '가셔야', '갔다올', '필요한', '공부도', '뿐이에', '있을지', '여자친', '뿐인데', '친구아', '강아지', '특별히', '재형아', '시간만', '주신거', '죽는꼴', '괴롭히', '회사가', '살아서', '승진하', '환장했', '하나만', '오해는', '고발하', '망치로', '끝내고', '안될까', '문제가', '수정해', '립스틱', '장학금', '앞으론', '선약이', '장식이', '반드시', '거지가', '안될것', '전달하', '우리는', '괜찮아', '데리고', '소용없', '몰랐어', '대답도', '실수한', '방해하', '지나갈', '멀쩡히', '뻔뻔한', '쓰는데', '말대꾸', '창피하', '생각안', '부당한', '문제라', '지금부', '먹은거', '알아라', '대드는', '조상님', '어울릴', '된다고', '웃기네', '대학도', '시작하', '카메라', '사람을', '곤란할', '같아서', '불편한', '벌써부', '말할거', '자리로', '보고싶', '늦었어', '없으시', '뒤진다', '환불은', '안가져', '무조건', '밖으로', '입금하', '알려줄', '자리에', '좋겠네', '핸드폰', '거기다', '뭐라고', '대박이', '까발리', '죽어도', '윗사람', '친구사', '빠지지', '도와줬', '한국에', '증거가', '여보세', '해드리', '큰일나', '위험해', '있는지', '싸구려', '좋겠습', '치지마', '도대체', '곳에서', '여기까', '지하철', '헤어질', '얘들아', '강대리', '생겼네', '비밀번', '어떻게', '걸어가', '찔러버', '다에요', '밥먹으', '커피맛', '조금이', '건드리', '제출해', '멀쩡한', '생각보', '마셔서', '혈액형', '단단히', '픽업해', '봤는데', '죽여줘', '컨디션', '알겠지', '발전이', '정신나', '너보다', '유포하', '싫다는', '허구한', '빨리가', '신어보', '현과장', '환불처', '드릴께', '생겼다', '비슷하', '공부하', '해주셔', '똑똑하', '잘됐네', '민수씨', '있거든', '돌려주', '쳐맞기', '먹었다', '남편이', '해줄테', '전화할', '면목이', '같더라', '처음이', '생긴거', '자식이', '사귀는', '안했어', '약속을', '들으라', '합의금', '엎드려', '써야하', '가주세', '소개시', '소리내', '남아서', '소방관', '싶어서', '운전하', '커피한', '집안일', '애비가', '우습지', '언론에', '죽겠다', '고치면', '없다는', '욕먹는', '필요가', '남자도', '됐습니', '자식들', '부딪혔', '물건을', '일이고', '베트남', '쓰겠습', '못차렸', '사장이', '있습니', '유도리', '청소하', '하는데', '필요없', '약속은', '개봉하', '무사하', '행동으', '정도가', '바쁜거', '저희집', '하나도', '누구인', '못생기', '같은데', '변명이', '여친이', '거기에', '꼬라봐', '150', '정말죄', '지혜야', '상품권', '좀전에', '아니야', '아시죠', '피곤하', '태어났', '정색하', '지워주', '지금도', '찌질하', '짤라버', '원하면', '내말이', '팀원들', '양아치', '죽었어', '해야겠', '살고싶', '살려만', '몰랐네', '게임하', '죽어봐', '치료비', '일해서', '죽이겠', '확인되', '애들은', '죄송하', '배신하', '나쁘다', '신경을', '알겠다', '박사원', '부족하', '시끄럽', '소문이', '다르게', '안하지', '불쌍한', '드세요', '당장은', '커피가', '그런말', '수고하', '지연씨', '회의가', '잠깐만', '부탁할', '매니저', '보이스', '푸하하', '소리가', '자식아', '괜찮다', '할만큼', '다니라', '재미없', '바보아', '몇인데', '손목에', '감사하', '폭파시', '원피스', '안보고', '뒤에서', '전화를', '누구하', '아이디', '이번주', '잘했다', '하려고', '나오시', '여기요', '간다고', '보세요', '말씀을', '써보자', '뭐예요', '니까짓', '봅시다', '시간되', '해고야', '신랑이', '알고있', '미루고', '기다려', '나와야', '무슨일', '뭔소리', '조용히', '사장님', '싸가지', '해야할', '희정씨', '않는다', '주말이', '입는거', '집착이', '그니까', '멍청한', '거예요', '십만원', '있는건', '키워주', '시원하', '바이러', '왔어요', '떨어질', '나가봐', '그래도', '여기가', '미스김', '처자식', '더러워', '만나는', '자식은', '맞기전', '이제와', '찌질이', '못먹는', '불편하', '줬는데', '연락처', '먹는거', '보면서', '역겹다', '오해십', '30년', '알았지', '거지냐', '드디어', '하겠어', '미친새', '니동생', '하는지', '피해를', '기회다', '안내놔', '여러번', '지켜보', '드릴까', '고생시', '우리부', '준다는', '망하는', '느려터', '건데요', '있어도', '올리고', '공짜로', '빠져가', '답답한', '그래야', '자네를', '보내줄', '학부모', '음료수', '소리로', '자릿세', '거절해', '있으시', '무서워', '들고다', '환불해', '복장이', '다음주', '있는거', '승진이', '없거든', '부르는', '가방에', '미쳤구', '임산부', '보내고', '여드름', '철수야', '자랑이', '맞아요', '계산해', '15만', '뒤통수', '일이시', '지방대', '지나간', '멍청하', '보이냐', '안되겠', '알아보', '쪽팔려', '마음이', '사람답', '찾아서', '콘서트', '챙겨줬', '봐주십', '방법은', '사랑하', '내리라', '놀자고', '꼬라지', '책임지', '빌려줘', '죽을지', '까라면', '똑같은', '마십시', '선배들', '행동해', '올게요', '아무리', '어르신', '박대리', '이것도', '우리를', '수진씨', '들렸다', '안다니', '좋자고', '부셔버', '꼴보기', '않는데', '부모가', '못했어', '배고파', '마련할', '가져와', '이것좀', '시켰는', '그러고', '몰라서', '빌립시', '왜이리', '지은씨', '선택권', '보이지', '폰으로', '마련하', '버릴거', '산다고', '못했다', '저희도', '배달이', '뻔뻔하', '일주일', '되는데', '물어봐', '오토바', '어쨌다', '생각좀', '주변에', '주십시', '행복하', '마셔야', '평소에', '이걸로', '돌아오', '탕비실', '안그래', '손해가', '같이가', '곤란합', '정리하', '팀장이', '아드님', '말로만', '보이니', '괜찮습', '준비하', '여자랑', '받아야', '레벨업', '고맙다', '정말로', '행동이', '어머니', '계약서', '오늘이', '만나러', '결혼하', '뭐하시', '다녀서', '사실인', '해야지', '조져버', '목숨이', '해놓고', '해주면', '차라리', '아파서', '움직이', '웃긴다', '분질러', '하는건', '남자애', '보고하', '해준다', '샀는데', '의도는', '5분이', '않습니', '올려버', '먹어서', '멍청해', '바빠서', '거지새', '있다는', '비밀로', '깨끗한', '믿어줘', '명심해', '입금해', '알겠습', '5천원', '영희씨', '누구야', '웃기게', '없애버', '돌려줄', '생각합', '나오면', '찌그러', '받아와', '맞아서', '다시는', '따박따', '남친이', '밥이나', '안좋아', '인내심', '언젠데', '생기면', '재수없', '힘들다', '이렇게', '뭐라했', '못해요', '중요한', '없네요', '학교폭', '카드값', '시켜주', '맞는다', '놓으세', '여기에', '돼지가', '성적이', '뒤져서', '오는거', '들었는', '도저히', '친구가', '친구한', '드리면', '억지로', '내놓을', '바로바', '주임님', '뒤져봐', '돈가져', '가시죠', '된거야', '못참아', '다리도', '가르쳐', '손녀를', '있어야', '돼잖아', '직원들', '3번째', '내일부', '쳐다봐', '일이십', '시키는', '집에나', '도망가', '부탁했', '보는거', '잘라서', '일이나', '죽여봐', '이대리', '올려야', '도와주', '알려줘', '난쟁이', '결혼할', '바꿔주', '계시는', '못들은', '상사가', '쓰는건', '해주는', '머리통', '와보게', '회식도', '되는건', '요즘에', '되니까', '두고왔', '얼굴은', '말해도', '됐어요', '안될거', '경찰이', '만들었', '안다고', '해서는', '어려울', '소문났', '재밌는', '가능하', '쳐맞고', '있으면', '가르쳤', '알아들', '자격지', '보는데', '주머니', '사주라', '찍어서', '우리도', '안되잖', '실수했', '튀어나', '주셔야', '좋았잖', '100', '무시한', '상황이', '고파서', '아니긴', '들어와', '있었어', '것보다', '어쩔건', '불구로', '심해서', '토요일', '안좋은', '수준이', '같은건', '얼마나', '3시간', '살라고', '문제야', '많아요', '집까지', '오대리', '뒤지게', '직장이', '범죄자', '돈이라', '워크샵', '어딨냐', '모르냐', '전화가', '찾아오', '심하신', '기분이', '열어서', '중요하', '빌려달', '들어보', '위에서', '시켜줄', '말했는', '때부터', '유치원', '개인사', '직원이', '없다고', '다녀야', '않겠다', '아파트', '누군지', '시작이', '내려가', '왜이래', '잘생각', '시켜서', '당당하', '민규씨', '아무것', '왔으면', '사오라', '훔쳐서', '한시간', '재밌게', '패버리', '물어보', '다니기', '갚겠습', '죽은거', '갔잖아', '가족들', '인생을', '시끄러', '연습하', '내려놓', '마찬가', '못생겼', '죽어버', '당신한', '칼들고', '회사는', '맞는거', '형한테', '모르니', '할거야', '사이즈', '들어간', '드려야', '어른한', '고통을', '비켜주', '수정하', '수행평', '경고했', '마시면', '소중하', '뒤지고', '집에가', '그러지', '50만', '입원해', '막무가', '다니게', '증거는', '써야할', '병원이', '와이프', '여유가', '시작했', '알바하', '왜이러', '분들이', '저세상', '쓰려고', '뭐든지', '죽어라', '정도만', '막내가', '않은데', '마음에', '사라져', '담배피', '기억하', '하고는', '먹어주', '친하게', '군생활', '개인정', '가난한', '장기라', '기억나', '돌아와', '잘못되', '왜그렇', '깨끗하', '찾아가', '무섭게', '다른걸', '생각나', '개웃기', '빌리고', '알바생', '시험지', '벙어리', '충분히', '너같이', '안어울', '만원만', '쓰레기', '중학교', '주세요', '음주운', '손모가', '너무해', '나같으', '신기해', '것만으', '식구들', '포기하', '외국인', '월요일', '쓰는거', '달려있', '주셨는', '얘기가', '대학교', '기본이', '살잖아', '어떡해', '웃으면', '약속이', '대화로', '가는데', '마스크', '공개하', '안그럴', '안으로', '찍은거', '해달라', '결혼을', '갈게요', '흥분하', '빌려줄', '했어야', '불쌍해', '소리하', '말이야', '회사에', '담달에', '감방에', '자네도', '기한을', '남았는', '찾아갈', '유전자', '퇴근했', '군대에', '누군가', '불편합', '걸리는', '서비스', '심하다', '커피에', '애한테', '다니냐', '맞으면', '친구도', '앉아있', '가져올', '되나요', '말씀이', '인정하', '들어갈', '부러뜨', '안하겠', '괴롭혔', '다니고', '어쩔수', '거슬려', '고객이', '때까지', '이러세', '준다니', '식으로', '새로운', '데려오', '사정이', '잘어울', '잠깐이', '쳐맞을', '말로하', '들을게', '말할게', '안했는', '이거는', '태어날', '하면서', '다니면', '할일이', '사람도', '뭐라는', '상관할', '인생이', '뚱뚱해', '죽을거', '뭐하자', '들어요', '엄마가', '가족은', '게임이', '말했지', '목숨만', '월세도', '몰랐습', '재밌지', '회의에', '살게요', '너밖에', '맞아볼', '장기는', '일인데', '확인하', '될까요', '아가씨', '나발이', '찐따야', '생긴게', '끝까지', '부르셨', '올려놓', '어차피', '계셔서', '원하시', '수치스', '남자랑', '주문한', '합시다', '450', '해보라', '꾸미고', '융통성', '부분은', '미안할', '이러면', '갚겠다', '걱정하', '시정하', '얼마있', '새끼네', '육아휴', '최대한', '지난번', '아니면', '말아요', '못한거', '장애있', '오빠는', '저새끼', '입사하', '우리반', '삼만원', '구매하', '서운하', '같으니', '회사일', '솔직히', '해보시', '합니까', '너에게', '모르게', '했다는', '여자로', '민수야', '보내준', '착각하', '입니까', '미주야', '거지라', '사모님', '사과를', '갑니다', '요구하', '죽겠어', '사람인', '부서에', '피해가', '이런식', '헛소문', '안들려', '사람들', '않겠어', '기억도', '연예인', '이러는', '지랄하', '조부장', '버스에', '놀리면', '신고합', '그래서', '알았네', '퇴근해', '목숨은', '에이씨', '주제를', '여동생', '그랬어', '내놔라', '많다고', '오해해', '오히려', '주둥이', '주라고', '어른이', '당하고', '고분고', '못하지', '대표님', '출근하', '커뮤니', '한마디', '했나요', '사회에', '여자는', '있겠어', '이번이', '돼지같', '만나주', '10억', '인생에', '놀다가', '좋습니', '데이터', '머리가', '한다니', '좋아한', '놀리는', '김인턴', '며칠만', '쉬는시', '태도가', '유튜브', '먹는다', '입니다', '보내시', '예쁘네', '아는데', '반말이', '커피도', '정도로', '유전이', '저번엔', '정현이', '멈춰봐', '점심먹', '고통스', '얘기해', '다음엔', '엄마아', '나타나', '말하는', '맘대로', '말하기', '김부장', '저기요', '술한잔', '오해하', '왜그래', '저에게', '다리가', '너네집', '어디에', '회식에', '누구랑', '내놔봐', '집으로', '정신차', '이번엔', '대단하', '조심히', '안주면', '여기저', '다른데', '코끼리', '무릎이', '웃기는', '힘들어', '정상적', '장님이', '회식때', '안타깝', '만든거', '아이가', '드릴테', '할테니', '야유회', '받아요', '또라이', '저녁에', '죽을때', '불렀는', '선물로', '예전에', '하셨잖', '없는건', '가야하', '누구냐', '그러니', '빌려간', '있잖아', '김대리', '어쩐지', '월급을', '것이지', '위험할', '못하는', '예진이', '지키면', '너같은', '완성해', '무서우', '난리야', '했잖아', '싫은가', '급하다', '초대해', '신발도', '있어요', '밖에서', '무엇을', '여편네', '보니까', '김비서', '가방을', '때리면', '일부러', '못쓰게', '함부러', '예의가', '해드릴', '학교생', '같습니', '까불고', '전까지', '컴플레', '바람핀', '받아주', '책임자', '찾아와', '해줄까', '안그럼', '사과드', '은지야', '오라고', '드리는', '치마를', '싫다면', '착하게', '찌르기', '좋다는', '죽여줄', '상실했', '알려줬', '고등학', '머리로', '모양이', '이번달', '애들아', '못한다', '500', '보내세', '배고픈', '힘들거', '있는데', '호주머', '저러고', '장난인', '신고해', '누군데', '줬으면', '서희야', '이상한', '놀러오', '좋겠다', '미쳤네', '저사람', '피아노', '운동화', '대학은', '하셨어', '못들고', '어쩌라', '작성했', '니네가', '일일이', '사실을', '없으면', '장난감', '놀러가', '가방이', '못하면', '정당하', '빌릴게', '구라치', '일어나', '가야지', '예민한', '수진이', '살려줘', '시키시', '하지만', '이제는', '너희가', '더럽네', '따라와', '갚아야', '보호자', '팀장님', '싸이코', '드려요', '지갑을', '00씨', '얘기할', '상관인', '돼지새', '증거도', '담배를', '휴가가', '잘못했', '때리고', '못하겠', '일하는', '맞춰서', '오른쪽', '키우는', '업무를', '괴롭혀', '교무실', '너죽고', '처음에', '중인데', '갚을께', '할꺼야', '온거야', '같네요', '물어볼', '알아먹', '어렵게', '10년', '잠시만', '살지마', '끝나면', '일이야', '어려운', '잃어버', '예민해', '거에요', '들었으', '미쳤다', '놀리지', '한달이', '사이에', '안하고', '등록금', '녀석이', '끝나고', '괜찮으', '봤다고', '먹자고', '일처리', '옷이야', '그만해', '곳으로', '선물이', '실수를', '지워줄', '협박이', '우리학', '스토킹', '다시한', '말씀드', '아무도', '임신한', '돈이나', '선호야', '해보자', '거아니', '신장이', '인사평', '일하시', '뭐해요', '능력도', '고소하', '들어오', '지나치', '전달을', '화장도', '잡종이', '될거야', '욕하는', '알지만', '법대로', '사랑해', '재미도', '답답하', '있으니', '쉬어야', '쉬고싶', '보기에', '나가고', '소리지', '심각하', '명령하', '막혀서', '뭐하고', '휴대폰', '정신적', '대답할', '어디다', '얘기하', '아니다', '할머니', '보여줄', '눈치가', '살려내', '어쩔래', '비슷한', '쫓아갈', '당신은', '죽일거', '카드로', '하라는', '부인이', '가족까', '그러세', '해결해', '좋겠냐', '같은게', '있던데', '넘어가', '내라고', '소름끼', '대답안', '정확하', '다물고', '미친것', '똑똑히', '확실히', '20만', '예쁜데', '풀어주', '구경하', '좋을거', '구해오', '이따위', '주민번', '엄마도', '개자식', '후회할', '잘해주', '독약을', '하라고', '제발요', '매점에', '빠지고', '돈이랑', '잘하겠', '6개월', '어쩌피', '못할거', '산거야', '구질구', '처음부', '말대로', '한국대', '저희는', '좋더라', '싶으니', '건드린', '있을까', '전부에', '중대장', '죽어요', '없는거', '오니까', '상대방', '당뇨병', '하는거', '손대지', '팩트를', '사진을', '놓으면', '해주고', '말해라', '한두번', '데려가', '길동씨', '영수증', '쳐다봤', '부장님', '생사람', '것까지', '외국에', '쳐맞아', '말입니', '애들도', '가져간', '해줬더', '웃기다', '배고프', '살아도', '쥐도새', '받는다', '갔는데', '안녕하', '무식하', '말하고', '보고있', '한다면', '데이트', '못봤어', '나한테', '끝내면', '불러와', '해봐야', '카드를', '웃기고', '제삿날', '해봐라', '많으면', '기다리', '따라하', '뭐때문', '누나가', '책상위', '못하게', '가져다', '커피를', '아까워', '오늘은', '순진한', '취소해', '오겠습', '심한거', '병신아', '10시', '자격증', '귓구멍', '참여하', '작성하', '최대리', '본인이', '우리사', '이러지', '뒤쳐지', '여편내', '보라고', '개소리', '다른사', '장난아', '그만하', '뭐라구', '이러고', '올라가', '생일선', '없는데', '만원짜', '봤습니', '싫어요', '죽이지', '오케이', '오만원', '민희씨', '직장인', '진심이', '봐주시', '안할거', '코로나', '두고봐', '띄지마', '자존심', '엉덩이', '직장생', '혼자만', '나가면', '경찰한', '했으니', '잘하고', '행동을', '못해주', '모자랄', '끝내야', '사생활', '한대씩', '단정하', '일하겠', '소리에', '바쁜데', '바보야', '나중에', '지났는', '기스나', '저번처', '자전거', '겁대가', '시작한', '안돼면', '않았어', '경찰서', '알면서', '김사원', '학생회', '딸한테', '당해서', '들어가', '서류들', '전부터', '전에도', '개빡치', '먹어도', '남자가', '그런가', '나보고', '출산휴', '승진도', '운전을', '사적인', '그것만', '올려놔', '여자라', '미역국', '주겠다', '준비했', '걸어서', '여기서', '먹으라', '집구석', '해주려', '얘기했', '모른척', '옆에서', '선택하', '반지하', '마시고', '커피마', '다녔어', '차장님', '안한다', '체육복', '뚱뚱하', '일한지', '불안해', '짜증나', '최소한', '오후에', '샌드위', '우리집', '진짜에', '손님한', '취급하', '이쁘다', '시어머', '수술비', '확인했', '불어버', '청소기', '된다니', '마무리', '다녀라', '급한일', '만나자', '사랑이', '세탁비', '근무시', '아침에', '짜장면', '진희씨', '프로젝', '지겨워', '동생보', '돈이야', '일이신', '장기를', '있나봐', '눈치껏', '없다며', '모르나', '찾아봐', '도둑이', '다른거', '야근하', '참석하', '그러는', '팔다리', '건드려', '다해서', '뭐가요', '나간다', '멍청아', '근처에', '학교가', '정보를', '안빌려', '없습니', '월급받', '심부름', '시키면', '하시는', '모를수', '지나가', '미쳤냐', '친구인', '하셔서', '싫으니', '맞아야', '보는게', '얼만데', '드렸는', '마련해', '여자들', '담당자', '싫어서', '신고하', '여행가', '유명한', '주말에', '편하게', '노력하', '어떡하', '가진게', '그래요', '가진거', '뽑아야', '혼자서', '아닌데', '비키라', '되어있', '해줘요', '마시는', '괴롭힐', '살아갈', '때문에', '가봐야', '그러면', '내일이', '도와줘', '않은가', '제정신', '찌르고', '알아내', '병신이', '몰라요', '더럽게', '시간에', '범죄에', '얼굴도', '기본적', '만만하', '들은거', '못하나', '씻고다', '지내고', '가리고', '시간인', '아니죠', '때려치', '이런걸', '잘못을', '여기는', '저번에', '갔다오', '봐야지', '몰랐다', '복사기', '동생도', '당연하', '돌아서', '바꿔서', '1학년', '사진은', '부탁이', '차가운', '학원비', '가져왔', '뽑아서', '안됩니', '보여줘', '오징어', '알았으', '팔아서', '먹었어', '일로와', '거기서', '농담이', '아세요', '느려서', '다행이', '까칠하', '하기로', '선택해', '의원님', '어디있', '걔네들', '걸려서', '비싼거', '없어도', '장난치', '가는거', '많으니', '택시비', '얼굴로', '동문회', '따돌림', '피부가', '미쳤니', '30만', '했더니', '얘기를', '가라고', '있었다', '사는거', '잘해봐', '안해주', '잘해야', '걸어다', '죽인다', '다니시', '야근을', '저기로', '맛있게', '분명히', '구석에', '더군다', '가족을', '알아요', '일이잖', '보려고', '내려놔', '갑자기', '잔말말', '꺼져라', '적당히', '20억', '빠르고', '늙어서', '오라면', '안할게', '빨리해', '죽여도', '승연씨', '다음은', '용돈도', '먹고싶', '해볼까', '새치기', '전화하', '아줌마', '10분', '20년', '사람이', '빌려서', '업무가', '보내야', '만나지', '받았는', '뜨겁게', '걸리면', '한번씩', '안되죠', '반항하', '연락을', '잘지내', '주시면', '해보겠', '달라는', '것들이', '짓거리', '아니었', '죽이면', '죽고싶', '개판이', '봐주면', '놀이터', '잊었어', '기억안', '뭐에요', '원숭이', '오전에', '빠지면', '힘들지', '잘했어', '애들이', '고마운', '기대할', '가야해', '태어난', '있었네', '뿌린다', '음식은', '거짓말', '입이라', '해주세', '뭐라도', '못들어', '니새끼', '대학생', '너한테', '시간내', '열받아', '난다고', '만나고', '애초에', '뭔데요', '수있는', '지워줘', '지금까', '말했잖', '젊은이', '좋아졌', '규정상', '어제도', '미친놈', '찌른다', '어려워', '그런게', '마지막', '가볼게', '내동생', '어딘지', '입닥치', '시궁창', '형들이', '진짜요', '거니까', '현실이', '빌려드', '거지같', '돌려받', '고생하', '있을텐', '재밌잖', '재밌겠', '하신거', '제가요', '사줬어', '퇴근할', '더럽다', '오해입', '할수있', '샀어요', '힘듭니', '만들고', '우리회', '김팀장', '우습냐', '죽자는', '퍼뜨리', '기분나', '할건데', '알려드', '빌려갔', '돌았나', '3개월', '10초', '일이라', '가까이', '붙어서', '동료들', '어디로', '진작에', '맞으신', '이상해', '행동하', '당해봐', '거지야', '확인을', '목걸이', '살리고', '경찰부', '일하기', '머리는', '과장이', '학생이', '집에서', '만드네', '우수워', '드립니', '사람은', '정리해', '학교에', '우리오', '할게요', '잘해라', '오냐오', '만나서', '지났어', '장난이', '옥상에', '우리끼', '안그랬', '진지하', '남자친', '교육시', '모양인', '심하잖', '필요는', '개웃겨', '거래처', '드리겠', '장난해', '그런건', '이새끼', '임주임', '다했어', '않았을', '가난하', '고소할', '노대리', '불만이', '행사가', '부탁을', '구하기', '절대로', '조금만', '되어서', '12시', '퇴근하', '궁금해', '않아요', '냄새도', '살아요', '안들리', '한계가', '300', '축하해', '대답해', '보겠습', '가지고', '말한거', '고통받', '요금제', '친구라', '했습니', '알겠네', '아닙니', '죄송합', '돌려준', '봤거든', '증거있', '나와서', '커피좀', '사는데', '민선씨', '버르장', '대가리', '갔다온', '손가락', '말아야', '때려요', '말이지', '만족해', '예민하', '좋아보', '움직여', '쪽팔리', '때리지', '풀어줘', '주문하', '현우야', '하도록', '않으시', '민철씨', '말해주', '잡아봐', '살아가', '선배님', '가족이', '부족해', '어디가', '없잖아', '우리가', '월급이', '너처럼', '잘못하', '부담스', '버리고', '피곤해', '직장에', '죽이려', '그정도', '하시네', '사람한', '고치겠', '말하지', '헤어지', '싶다는', '시키고', '얼마가', '잘못된', '나오는', '되는지', '있으신', '나왔다', '어머님', '뛰어내', '개만도', '힘들었', '설치하', '해오라', '앞에서', '넘기면', '돈인데', '싫은데', '생겼는', '신고했', '우리누', '말대답', '성희롱', '섭섭하', '못빌려', '죽일꺼', '궁금하', '위치에', '돈좀있', '먹어야', '점심은', '당신의', '전부야', '통하는', '안되지', '우연히', '늙은이', '준비나', '생각할', '신고한', '오지마', '말이에', '조심해', '조용하', '대답을', '찾아보', '않겠습', '대들어', '모가지', '하시고', '너희들', '힘들것', '돈이없', '물건이', '부당합', '합니다', '개인적', '처리를', '토나올', '깔끔하', '기억해', '저러니', '알아야', '일끝나', '11시', '끝내자', '잘리고', '알겠냐', '한대다', '부탁하', '몇번째', '대회에', '주제에', '가만안', '신입사', '다음달', '못해서', '주는거', '알잖아', '통금시', '주말엔', '도와드', '기분도', '감사해', '대화를', '본다고', '선생님', '다리를', '약속한', '여기로', '들어왔', '없을거', '뒤지기', '소리세', '말아줘', '괜찮을', '말해야', '일하러', '죽어야', '아니니', '봐줘야', '돈없는', '깨끗이', '일해야', '벌어서', '말해봐', '우울증', '열심히', '자신감', '있을테', '기생충', '출근해', '판단하', '받아서', '자기야', '저승길', '보인다', '못했습', '돼지라', '저리가', '박과장', '저렇게', '먹는게', '여러분', '여자애', '소문내', '결혼한', '놀아주', '살이야', '상사한', '일입니', '좋아요', '말아주', '해서요', '하던가', '것들은', '대로만', '아빠가', '능력이', '프로그', '보고서', '받으려', '않으면', '곤란한', '하시면', '안나오', '블로그', '아니고', '바빠요', '자체가', '한다고', '빠듯해', '싫어해', '맞습니', '모르면', '미쳤나', '준비를', '일하면', '쪽으로', '주말인', '와야지', '몽둥이', '닥치고', '가능할', '가야되', '무섭다', '각오해', '하겠다', '보낼게', '신발이', '많은거', '다녀요', '장난도', '가만있', '지난달', '환불이', '가정교', '입사한', '휴가를', '친구랑', '가격이', '해줘야', '가게에', '의심하', '없다니', '마음대', '업체에', '딱봐도', '틱장애', '통장에', '달라질', '덕분에', '주는건', '시간도', '오세요', '써주세', '언제부', '보내줘', '이번만', '됐으니', '찐따새', '누구시', '끝났어', '헤어진', '짤리고', '선물받', '벌레가', '무슨말', '있다니', '봤어요', '장애인', '나왔는', '사다줘', '저한테', '결혼식', '달라면', '1억이', '들어줄', '몰아가', '일어날', '쳤으면', '가세요', '뭐하는', '주의하', '병원에', '어쨌든', '무례하', '10원', '죽이고', '가만히', '싶다고', '부르지', '갑시다', '용돈이', '업무시', '신입은', '자빠졌', '잡아먹', '젊은것', '이리와', '밀려서', '홍당무', '억울하', '줬잖아', '그렇다', '백만원', '됐다고', '해주시', '헤어져', '카페에', '보낼테', '먹을게', '차비가', '창피해', '마세요', '동기들', '되겠습', '쳐박혀', '아저씨', '군대도', '죽여야', '한것도', '사다주', '우리엄', '어딨어', '예쁘게', '누군줄', '전에는', '휴가는', '잘들어', '부모한', '잘났다', '못하니', '해야되', '못해줘', '있었는', '입다물', '준비도', '쓴다고', '소비자', '은행에', '뭐하냐', '싫어하', '신입이', '업무에', '취소할', '인터넷', '잘하면', '중으로', '환자분', '자네가', '생각은', '얘기는', '부르라', '알아듣', '떡볶이', '요즘은', '오백만', '들어주', '형님이', '넥타이', '컴퓨터', '꺼내봐', '바쁘니', '말씀은', '오빠가', '만들어', '아니요', '죽는거', '5만원', '줘야해', '죄송할', '학력이', '된다는', '좋아하', '누구한', '냄새난', '털어서', '따돌리', '일이세', '비트코', '똑같아', '3일만', '재수가', '보잖아', '걱정되', '미안하', '왔는데', '냄새나', '돌아갈', '오늘따', '죽을래', '역겨워', '지켜야', '어울린', '머라는', '3만원', '동생이', '열어봐', '센스가', '불법이', '모자라', '친구냐', '됩니다', '장난같', '점장님', '아니지', '자네같', '알았냐', '생각도', '다예요', '더러운', '맞는데', '자기가', '들어올', '관심이', '말인가', '발가락', '빨리빨', '동영상', '정한씨', '보내겠', '그치만', '지금요', '실수하', '갈테니', '한건데', '더이상', '여기있', '재미로', '다녀왔', '보미씨', '차리겠', '뒤졌다', '입냄새', '안된다', '자살했', '얼마전', '바닥에', '준비할', '있나요', '들으면', '모르고', '해오겠', '심하십', '화나게', '따뜻한', '이러니', '들어온', '애인이', '대기업', '멀쩡하', '없었어', '6만원', '몇살이', '똑바로', '뭐냐고', '장사하', '길동아', '상관이', '낙하산', '승진은', '우스워', '떨어져', '표정이', '안돼요', '이유가', '노래방', '회장님', '신분증', '해드렸', '최선을', '보내지', '피해보', '이러시', '인사팀', '친구는', '주던가', '비행기', '겁니다', '있더라', '새끼가', '빌려준', '해주겠', '안그러', '밥먹을', '했어요', '따위로', '틀렸잖', '당연히', '이런거', '진정하', '잘못들', '왜그러', '음식이', '죽으면', '바보같', '생각이', '내버려', '한번도', '그동안', '있다고', '당하기', '친구야', '먹을까', '오해야', '말하면', '끝이야', '전화해', '미리미', '으아아', '구해올', '남편은', '유출되', '나보다', '다녀올', '조심할', '동생한', '헤어졌', '재밌어', '돈없어', '음식을', '진짜야', '싫다고', '추가해', '잘못한', '교통사', '뒤질래', '가고싶', '돌아가', '모를거', '받아들', '허락도', '김과장', '하니까', '용서해', '많은데', '손님들', '병원비', '불러주', '못하냐', '노력해', '저래라', '10만', '버스비', '생각을', '만나기', '미팅이', '끝내서', '늦어서', '한거야', '한번에', '문제인', '기어오', '가져오', '모르겠', '10프', '지금은', '그러게', '오빠랑', '다니는', '지친다', '부탁한', '반에서', '점심시', '말았어', '하라면', '못하네', '말한다', '기분을', '스트레', '같아요', '받았어', '나올때', '시키지', '카드는', '소문낼', '싫다니', '즐기는', '가자고', '감사합', '빌려가', '과장님', '내놓으', '불편해', '있냐고', '고릴라', '예쁘다', '오빠도', '구해볼', '냄새가', '많아서', '신경써', '잘라버', '저기서', '함부로', '거아냐', '이제야', '넘어갈', '이야기', '줄거야', '떨어졌', '말이라', '답답해', '회사로', '보내라', '모시고', '수학여', '감당할', '있어서', '위험한', '음식에', '급하게', '얼굴을', '하는게', '없나봐', '며칠째', '조심하', '노력이', '대답하', '거절하', '프리셉', '다음에', '못나가', '위해서', '의미로', '협박죄', '하셨는', '엄마는', '짓이야', '정도는', '눈치없', '미친거', '드리고', '무사할', '힘들게', '너무하', '드릴게', '아니잖', '000', '보기만', '말해보', '00아', '말같지', '뿐입니', '받으라', '해볼게', '서두르', '따라해', '안둘거', '전화번', '나온다', '아직도', '피하는', '가져갈', '불가능', '설거지', '기사님', '사오면', '너무한', '영업방', '정신병', '해결할', '퇴근을', '우리팀', '인질로', '모른다', '무서운', '구해와', '미쳤어', '멋있지', '스스로', '생활비', '바꾸자', '글러먹', '안통하', '시비걸', '인턴이', '사와라', '곤란해', '힘든데', '빠져서', '판단해', '사과하', '지현씨', '손목을', '좋겠어', '고백했', '하셔야', '잘하는', '위치추', '버러지', '되겠지', '하루만', '어린이', '가방도', '사먹을', '다가오', '데려와', '귀찮게', '퇴사하', '살아야', '했는데', '집안에', '아닌가', '꼬맹이', '부러워', '오늘까', '이따구', '듣겠어', '업무는', '제대로', '사회생', '좋은데', '보내드', '내일까', '노력했', '몸으로', '정대리', '먹으러', '총으로', '공부를', '솔직하', '언제까', '여자가', '너때문', '화장실', '시간이', '분위기', '너네가', '예전부', '상관없', '무시하', '보여주', '준다고', '만든건', '싫으면', '한달에', '기억이', '모르는', '좋은말', '47만', '목소리', '동생아', '천만원', '못헤어', '살면서', '다녀오', '새끼야', '누구세', '받았으', '갚는다', '소리야', '노숙자', '똑같이', '아이스', '보내면', '건물이', '친한척', '안갚았', '사주셨', '백화점', '멋대로', '동생은', '엉망이', '외삼촌', '금액을', '커피나', '정보가', '찐따같', '어이가', '모르지', '늦으면', '잘나가', '최팀장', '밑에서', '어디야', '떨어지', '아버지', '않았다', '도움이', '중간에', '휴거지', '앞으로', '분들은', '생겼어', '안봤는', '밤마다', '정말이', '민지씨', '싶어요', '먹어요', '얼굴보', '우리애', '갖고와', '봐줬더', '다른애', '찬호야', '못하고', '기다렸', '반가워', '필요할', '꺼지라', '못알아', '사무실', '앉아서', '경찰에', '교육을', '없었습', '되는거', '저희끼', '고졸이', '불질러', '할께요', '사과는', '자신이', '단무지', '만났지', '머리를', '바람피', '거잖아', '미안해', '새끼는', '일루와', '압니다', '수업시', '통하네', '준비해', '부럽다', '빠르게', '빌리자', '생각한', '지수씨', '맞았다', '말인데', '주시는', '눈치는', '따라오', '빽으로', '맞으시', '맞을래', '챙겨주', '맞잖아', '방법이', '빡치게', '따라다', '버릇이', '아니에', '핑계대', '젓가락', '지희씨', '일머리', '2만원', '하지말', '의견을', '출근시', '우영씨', '일인가', '고마워', '소개팅', '잘쓸게', '되겠어', '갚으면', '아들이', '시간있', '뿐이야', '좋다고', '얌전히', '아무튼', '받으면', '꼬리치', '없어서', '잘라줄', '서울대', '친구로', '공부해', '마음만', '저희가', '생일이', '나오라', '해보세', '비싸게', '헛소리', '부끄럽', '작정했', '말로할', '않았냐', '어울려', '알았어', '생각없', '당신도', '할아버', '차리지', '언니가', '않았습', '죄송해', '구역이', '파스타', '휠체어', '될텐데', '안되요', '범죄야', '한번만', '도둑놈', '오랜만', '돈주고', '날아가', '친구들', '상담원', '건들기', '생각하', '무슨상', '노력할', '얼마인', '알겠어', '오늘도', '우리딸', '뒤집어', '있다가', '피해주', '테니까', '하나하', '똑같네', '책임질', '계세요', '잘못이', '끼어들', '안되나', '싶은거', '들었어', '애새끼', '무릎꿇', '에어팟', '니같은', '하고싶', '원하는', '싶은데', '그러냐', '필요하', '이거밖', '해주신', '금요일', '다녀와', '어디까', '학원도', '붙어있', '때려쳐', '못가게', '소리를', '나오고', '나왔어', '입금이', '않나요', '가족만', '수밖에', '심하게', '안들어', '죽으라', '가보겠', '술마시', '토달지', '이정도', '회사의', '못하잖', '줄테니', '오해가', '건들지', '좋은거', '불러서', '이자식', '안줬잖', '송대리', '빌리는', '작년에', '승민씨', '그런거', '못합니', '가족도', '다같이', '니돈으', '잘모르', '거슬리', '급해서', '꼬우면', '뚱뚱한', '사람으', '계산하', '나이에', '회식은', '괜찮은', '교장선', '이딴식', '선에서', '모아서', '돌아다', '찐따가', '데려다', '친구잖', '죽는다', '바른거', '결정해', '다닐거', '사준건데', '하는데요', '부탁할게', '조심할게', '그만두던', '말씀하세', '얼마있어', '오해십니', '사회생활', '이자식이', '빌려줘봐', '나오는거', '안그럴게', '아이패드', '실수한거', '아니지만', '환불해줘', '어쨌다고', '컨디션이', '나오지마', '헤어지고', '그랬잖아', '제정신이', '모른다고', '죽어야지', '나발이고', '미친놈아', '미안합니', '가족들은', '나왔는데', '화장실에', '거짓말하', '좋아하시', '통금시간', '선물받은', '기분나쁘', '2000', '안통하네', '지나간다', '모르겠어', '얼마전에', '어쩔건데', '주의하겠', '찌그러져', '우리끼리', '중입니다', '여보세요', '안할거야', '받아들이', '어쩌려고', '받았는데', '필요없고', '초등학생', '이딴식으', '죽여버린', '잘하겠습', '이사람이', '중요하지', '싫어하는', '앞으로는', '모르겠습', '두고보자', '말이에요', '일처리가', '소리에요', '주셨는데', '부르셨어', '확인해보', '기어오르', '해보자는', '그러고보', '그러지말', '병원에서', '보자보자', '알았는데', '매점가서', '불쌍해서', '봐줬더니', '그렇게는', '말씀이세', '나왔다고', '사람이라', '그러는데', '않습니다', '친구사이', '들고다녀', '회사생활', '승진하기', '안가져왔', '그랬는데', '찢어버릴', '진짜에요', '왜그러시', '너무한거', '있었다고', '환불해주', '저번에도', '생각하고', '말대꾸하', '어려우세', '못하겠어', '아셨어요', '어서오세', '미리미리', '이래가지', '아닌가요', '하십니까', '지나가다', '그러게요', '못봤어요', '가져가서', '지나가는', '드릴게요', '빌려줘라', '심하잖아', '퇴근하고', '의원님이', '학교폭력', '사고싶은', '그렇구나', '했습니다', '안되잖아', '진지하게', '남자친구', '주민번호', '그만해라', '죽일거야', '죄송하지', '필요하신', '머라는거', '김대리는', '신기하다', '아무한테', '아드님이', '않을거야', '안나오면', '해줄게요', '신고하면', '따뜻한거', '상관이야', '사주신거', '몸으로라', '부탁인데', '이쁘다고', '그런거아', '신기해서', '10원에', '스타일이', '일이세요', '미안하지', '못알아듣', '신어보자', '이번주에', '어렵습니', '학원비야', '근무시간', '동생이랑', '가져가세', '궁금하다', '부끄럽지', '사람들은', '헤어졌어', '안보내면', '힘듭니다', '맞고싶어', '사람에게', '가져오면', '어디까지', '니돈으로', '빌려주라', '환장했어', '이상하고', '수행평가', '100원', '안좋아서', '개인정보', '부탁하는', '없잖아요', '생각하겠', '도와주라', '안된다고', '못생겼다', '기다리게', '맞고줄래', '버스비가', '좋아하지', '잘못했으', '모르니까', '장난이지', '되겠습니', '잃어버리', '거지새끼', '노력하면', '시끄럽게', '못하겠다', '건들지마', '퇴근시간', '빌려줘요', '해줬더니', '사주라고', '상사한테', '일이시죠', '부탁이니', '되시나요', '거슬리게', '움직이면', '초등학교', '다녀왔습', '고소할거', '얘기하고', '무슨말이', '어쩌라는', '필요없어', '출근해서', '뭐라고했', '답답하게', '목숨만은', '그러던데', '김사장님', '빠져가지', '생각해도', '지은씨는', '미안한데', '오늘까지', '이러는거', '지난주에', '부탁해요', '말씀드려', '받은건데', '가야해요', '내려놓고', '그만두고', '가족여행', '부모님도', '됐습니다', '부모님께', '어쩌자는', '잘못했어', '미친놈이', '제출해야', '사랑하는', '어떡해요', '생각해서', '뭐하자는', '싫다니까', '이리와봐', '사람으로', '친구들은', '잘모르겠', '봐주십시', '맛있는거', '부당한거', '알겠다고', '그만하시', '드렸는데', '일이라서', '후회하지', '그런다고', '알아들어', '가족끼리', '드릴께요', '헤어지자', '협박죄로', '안하겠다', '죽을때까', '친구라고', '안시키고', '오늘따라', '죄송하다', '전화번호', '놀아주는', '어떻게하', '뒤지고싶', '왜이러시', '이러니까', '소문났어', '재수없는', '하는거야', '자리에서', '도와주는', '아니라면', '있을텐데', '말씀이시', '아니라니', '억울해요', '웃으면서', '그럴거면', '잠시만요', '호주머니', '그랬어야', '일하는데', '왜그러는', '으아아악', '나오라고', '심부름이', '그정도도', '없어지면', '맞아볼래', '가족한테', '우리사이', '편의점에', '대리님이', '지금부터', '소리세요', '잘못한거', '김선생님', '죽여줄게', '500만', '되는거지', '왜그렇게', '불편하게', '없습니다', '자랑이라', '죽어버려', '생신이라', '시끄럽고', '핑계대지', '나왔습니', '나오는데', '명심하겠', '아까부터', '뭔소리야', '다음주에', '김사원은', '핸드폰이', '신고할겁', '고통스럽', '무시하고', '좋았잖아', '느려터져', '같습니다', '앞으로도', '평소에도', '가보겠습', '이새끼야', '지금이라', '같아서요', '잘못했다', '환불해드', '경찰부를', '죽고싶냐', '예전부터', '20만원', '생일선물', '불편합니', '오랜만이', '고치겠습', '증거있어', '생각하면', '가지고와', '안됐는데', '뚱뚱해서', '맞습니다', '어떨까요', '그렇게해', '그러는거', '개인적인', '심하세요', '하시네요', '경찰서에', '우리가족', '기다리고', '고객센터', '돈없어요', '당연한거', '데리고있', '왜그래요', '이기적이', '하나하나', '물어봐야', '자격지심', '감사하겠', '커피타는', '장난치는', '해야되는', '저번부터', '다녀오겠', '우리한테', '안좋아해', '왜이러세', '있으십니', '오토바이', '사과해주', '이러다가', '보고싶어', '하십니다', '이모양이', '다음에는', '재밌잖아', '보고서라', '그만해주', '뽑아버릴', '다음달에', '시키시는', '무슨말씀', '들어간거', '상관없어', '궁금해서', '안될것같', '보내라고', '수정해서', '그것만은', '눈앞에서', '개빡치게', '무슨일이', '필요한데', '친구니까', '사주셨어', '그랬다고', '100만', '돌려주면', '이보세요', '괴롭히는', '일하는거', '사무실에', '남았는데', '우리엄마', '줄테니까', '못하니까', '가볼게요', '사실이잖', '300만', '이대리는', '움직이지', '애플워치', '결혼하면', '어울리는', '안그러겠', '협박하시', '있는데요', '아침부터', '상관인데', '그렇게하', '모르겠고', '사준거야', '진정하시', '마지막이', '말했는데', '그러세요', '손가락을', '힘들것같', '보내주시', '생각했는', '죄송하면', '좋아보이', '힘들다고', '있으니까', '업무시간', '누구신지', '죽는거야', '싸가지가', '아가씨가', '그러겠습', '안그랬어', '생각합니', '어려워요', '어딨습니', '만들어줘', '계산하고', '건들지말', '건들이지', '뒤룩뒤룩', '친구인데', '해준다고', '안갚았잖', '내려놓으', '하고싶은', '안되는데', '지금까지', '괴롭히지', '프리셉터', '바보아니', '모르겠네', '확인하겠', '죽자는거', '내버려둬', '야근해서', '가정교육', '구해올게', '잘못이야', '고등학교', '가져올게', '직장에서', '여기에서', '우리누나', '이따구로', '가족들도', '이유라도', '그따위로', '5000', '어떡할래', '보여줘봐', '우리아빠', '샌드위치', '어디있어', '개새끼가', '손모가지', '시어머니', '교장선생', '버릴거야', '못생기고', '해오겠습', '누가그래', '알아서해', '장애인들', '보내드리', '부모한테', '쪽팔려서', '뛰어내릴', '기다려야', '부장님이', '모르겠다', '아무래도', '봐주시면', '쓰레기통', '직장생활', '더군다나', '몇번째야', '다짜고짜', '왜그러나', '가져왔어', '일이신가', '하루이틀', '부장님한', '우리집은', '이정도는', '아줌마가', '안들으면', '찐따새끼', '그만좀해', '우리회사', '어쩔거야', '어디가냐', '아빠한테', '오겠습니', '보내드렸', '해보겠습', '이번에는', '꼬박꼬박', '진정하게', '10만원', '시끄럽다', '죽여버리', '기다려주', '없다니까', '돌려주세', '하는건데', '컴플레인', '하지마세', '않겠습니', '소중한거', '사과하세', '어떡합니', '것만으로', '모르는게', '짜증나네', '안줬잖아', '안타깝지', '그모양이', '아니에요', '지나치십', '장난같아', '이상하게', '선생님께', '옥상에서', '너무하시', '내일까지', '때리지마', '걱정되서', '안들었어', '개새끼야', '건들기만', '정당하게', '집구석에', '보낼게요', '해야하는', '그래야지', '소리하고', '다른애들', '말씀드릴', '사실대로', '내놓으면', '가져가시', '장난하는', '그러십니', '생각해보', '장난이야', '지긋지긋', '일로와봐', '그만하고', '심하십니', '안되겠구', '있을까요', '이럴수록', '들어와서', '잘생각해', '47만원', '기분나빠', '냄새나는', '말이라도', '가능할까', '오백만원', '가족들이', '친구들한', '걸어가면', '가족만은', '뭐라구요', '친구들이', '아니었어', '짜증나서', '안되나요', '달라는거', '이세상에', '그래그래', '지랄이야', '보내주세', '장난치지', '성희롱이', '하하하하', '이러지말', '나오시면', '저래라야', '감사해요', '어려워서', '죽인다고', '놓으세요', '했으니까', '신고하겠', '다시한번', '행동으로', '빌려주지', '그런거야', '신고합니', '미안하다', '무서워라', '안그래도', '비밀번호', '못하는거', '그때까지', '안녕하십', '신고한다', '알았으면', '애들한테', '일처리를', '그만하자', '필요해서', '이리와바', '너무하세', '이쪽으로', '해주셔야', '그런것도', '회사에서', '고소하겠', '너무하십', '아니구요', '좋은말할', '만들어와', '비키라고', '매점에서', '잘못이라', '동생보다', '가져갈게', '시끄러워', '되는거죠', '불법이야', '돌려준다', '없어지는', '못했습니', '다녀야지', '어쩔수없', '잘라버릴', '살아야지', '고생시키', '모릅니다', '보낼테니', '생각보다', '맞기전에', '했는데요', '이런식이', '일하는게', '시간이라', '이러는지', '알려주실', '나왔어요', '많으니까', '1000', '어울린다', '어디가서', '있을거야', '입금하세', '협박하는', '빠져나가', '그렇긴한', '없는데요', '여기있어', '신고해봐', '이러십니', '가만안둬', '할테니까', '무서워요', '부족해서', '말씀이십', '아무것도', '없었습니', '사람들한', '만원짜리', '결혼식이', '찾아오지', '약속있어', '직원들은', '괜찮습니', '무슨일로', '이야기해', '수학여행', '모르겠는', '아니면서', '진정하세', '내리라고', '아주머니', '그랬습니', '하라는대', '죽어야돼', '없었어요', '소리하지', '없애버릴', '어딨어요', '따박따박', '못합니다', '처리하겠', '부탁한다', '그렇겠지', '할것이지', '돌려줄거', '알려줘야', '보내세요', '바로바로', '믿어주세', '어떻게든', '15만원', '있잖아요', '문제라도', '이것들이', '정신차리', '아무말도', '사소한거', '드릴까요', '다른남자', '이러지마', '들었어요', '들어왔어', '아저씨가', '있습니다', '여기저기', '그만하세', '음식에서', '출근시간', '데이트하', '시정하겠', '만들어서', '전화해서', '있어서요', '죄송합니', '김대리도', '죽여줄까', '학교에서', '시간인데', '오해입니', '드립니다', '기다려줘', '기대할게', '말씀이신', '갔다오면', '그거라도', '말았어야', '학생회비', '개웃기네', '기억안나', '하잖아요', '해주세요', '보고서를', '그러시죠', '보내드릴', '쓰레기야', '없는거야', '열심히해', '원하시는', '저희끼리', '확인하고', '들고다니', '오랜만에', '알겠으니', '되는거야', '가만있어', '말씀드리', '안되겠네', '싫으니까', '도와드리', '힘들어서', '빌려줄게', '하는건가', '갚아야지', '따라다니', '없을까요', '빌려주세', '너네집에', '그러다가', '누구시죠', '그럴게요', '죽으라고', '사이좋게', '유튜브에', '사장님이', '어딨는데', '말했잖아', '잘못했나', '빌려주는', '알겠어요', '거지같은', '해주시면', '따라오라', '사람인데', '하겠다는', '사람이야', '못생겨서', '환불처리', '만만해보', '괜찮아요', '나같으면', '이새끼가', '당연하지', '안둘거야', '하겠다고', '저번달에', '시키는거', '안좋은데', '죽는다고', '꼬라지가', '빌립시다', '곤란한데', '잘했다고', '죽여버릴', '돈없는데', '아니라는', '아이디어', '아시잖아', '말씀하시', '나쁜사람', '너무하다', '물어보는', '어디있나', '주십시요', '도와주세', '왜그래야', '보내줄게', '소개시켜', '내일부터', '못들었어', '봐주세요', '저번주에', '잃어버렸', '나한테만', '해드리겠', '아닌거같', '무시하냐', '좋은말로', '좋아해서', '기다리세', '써주세요', '안할테니', '사오라고', '아닙니다', '말한건데', '대가리가', '좋겠는데', '심하신거', '맞으신가', '불렀는데', '뭐하시는', '들어야지', '가는거야', '리모델링', '사람답게', '낙하산이', '깔끔하게', '가져와야', '그렇다고', '있었는데', '못한다고', '정리해서', '가져가지', '마무리하', '헤어지는', '죽이기라', '소문낼거', '예민하게', '가져와봐', '망하는거', '점심시간', '구질구질', '없으면서', '장기라도', '못생긴게', '그런가요', '말대꾸를', '아니었습', '말이라고', '만만하니', '했잖아요', '죽고싶어', '못하는데', '나올때까', '깨끗하게', '이거라도', '생각하는', '안했는데', '정신차려', '아니거든', '김대리님', '개인사정', '그래봤자', '엄마아빠', '하지말아', '과장님이', '하셨어요', '사람한테', '짜증나게', '가져오라', '이름으로', '하시는거', '알아듣네', '거짓말을', '갚는다고', '준비하고', '가족까지', '장애인이', '잘못했습', '벌써부터', '해보자고', '그따구로', '대답안하', '물어보시', '이러고도', '할머니가', '부장님도', '지워줄게', '왜그러십', '씨씨티비', '얼마있냐', '왜이러는', '필요하거', '수치스러', '모양인데', '하나밖에', '다닌다며', '없으세요', '안된다니', '먹으라고', '이것밖에', '일끝나고', '알아들었', '쥐도새도', '드리겠습', '불쌍하다', '생각없어', '카페에서', '무슨상관', '좋아보인', '아니라서', '입금해주', '다른사람', '장난하냐', '해달라니', '생각하시', '인수인계', '말씀해주', '다음부터', '이번달까', '오기전에', '그건아닌', '당신한테', '가겠습니', '부모님은', '얘기하는', '생각해볼', '하기싫어', '갚을게요', '놀리지마', '뿐이에요', '우리집에', '답답해서', '윗분들이', '30만원', '책임지고', '싫다고요', '헤어지면', '돌려줘야', '하지마라', '고분고분', '아스팔트', '가주세요', '그러길래', '원하는거', '안다니고', '있는거고', '주는거야', '잔말말고', '안좋아하', '푸하하하', '찾아가서', '그러시는', '살려주십', '좋겠습니', '꺼지라고', '사랑해서', '목소리가', '김대리한', '알아듣는', '알겠습니', '머리카락', '그냥줄래', '잘못했는', '일로와바', '아닙니까', '말대꾸까', '무시하는', '죄송해요', '뭐라는거', '월요일날', '나와야지', '그딴식으', '헤어졌는', '생각하냐', '책상위에', '그런소리', '가야하는', '이러세요', '지랄하네', '없어서야', '부탁이야', '있는거야', '취소할게', '갚을거야', '왔는데요', '어쩔껀데', '정말이야', '만만하지', '일이라고', '살려줄게', '하는거지', '그만둬야', '계좌번호', '여기있습', '언제까지', '했어야지', '부탁드립', '다닌다고', '보여줄게', '신입사원', '다니면서', '그러니까', '5만원만', '어떡하지', '없으려니', '불편하다', '인사평가', '길동씨는', '직원들이', '힘들어요', '이제서야', '할아버지', '그런식으', '막무가내', '똑바로해', '미안하면', '죄송한데', '그렇지만', '알았어요', '헛소리하', '바빠서요', '수업시간', '저번에는', '생겼는데', '해줄테니', '받았으면', '알려주는', '이거밖에', '지난달에', '이를거야', '부러뜨려', '안해주면', '소리하네', '나한테는', '정말죄송', '전부에요', '하셨잖아', '이런걸로', '그만해줘', '신고할거', '너무하신', '괴롭히면', '사람들이', '융통성이', '그러려고', '하고다녀', '인터넷에', '힘들었어', '시켰는데', '생일인데', '시키는데', '부장님께', '가져간다', '그랬다는', '사오라면', '미친새끼', '하는거고', '일이십니', '건드리지', '노력할게', '생각안하', '마십시오', '빨리빨리', '뚱뚱하고', '글러먹었', '연락하지', '인스타에', '그만이야', '안했어요', '말하는데', '아메리카', '빌려달라', '죽고싶나', '생각하니', '가져와서', '너같은거', '이런것도', '선생님한', '조심해라', '있는거지', '아닌데요', '하루종일', '되잖아요', '안나는데', '빌려줄거', '들어오지', '어린이집', '팀장님이', '얘기하자', '그러는건', '무릎꿇고', '저한테만', '안들어서', '있었어요', '왜그러냐', '준다니까', '좋다는게', '싶습니다', '어떡하라', '왜이렇게', '있을테니', '알고있어', '있으면서', '안빌려주', '이대리님', '아니잖아', '무슨일인', '그런거잖', '돼지라고', '여자친구', '못알아들', '않습니까', '가져가면', '그만하라', '그런말이', '안들리는', '말하니까', '거짓말치', '정리하고', '빌려가고', '다음부턴', '고등학생', '연락드리', '말대답이', '200만', '기본적인', '맞는데요', '내놓으라', '사람들도', '사랑한다', '싶으니까', '미안해요', '김마리씨', '여자한테', '말로할때', '재미없어', '안되는거', '한마디만', '곤란합니', '학교생활', '오늘부터', '있습니까', '알려주시', '어머니가', '필요해요', '급하다고', '안될까요', '안되겠다', '프로젝트', '재수없게', '약속이라', '보겠습니', '누구한테', '생각해야', '제출하겠', '이자식아', '살려주세', '아직까지', '버르장머', '죽어버릴', '있어야지', '귀머거리', '교통사고', '과장님께', '장난하나', '못하잖아', '물어보고', '겁대가리', '말하는게', '같은데요', '안된다는', '죽을거야', '개인적으', '못하면서', '경고했다', '나름대로', '왜그러세', '안됩니다', '일이잖아', '거짓말이', '맞으시죠', '않았습니', '정말이에', '부탁드릴', '너무하네', '신고할꺼', '다니는거', '이야기를', '마음대로', '있으세요', '그러시면', '알았으니', '공부하는', '돌려줄게', '선생님이', '있는건가', '스토킹이', '나이먹고', '빌려줄래', '사실이야', '말씀드린', '전화하지', '핸드폰은', '가봐야해', '없어서요', '원하는게', '피곤해서', '해보라고', '모르는거', '부르는거', '처리하고', '무서워서', '말해줘야', '불편하면', '안가져오', '하지말라', '다음주까', '있거든요', '오냐오냐', '50만원', '고백했다', '정신차릴', '이번달에', '누구인지', '잘어울리', '싫습니다', '재미있는', '가만안둘', '아니예요', '돌아다니', '갑자기요', '도와드릴', '스트레스', '남친이랑', '마지막으', '진정하고', '돈이라도', '해보세요', '맞았다고', '비싼건데', '더러워서', '이번에도', '사람이네', '그렇게까', '곤란해요', '드릴테니', '몰랐어요', '괜찮겠어', '말대답하', '생각하지', '빌려주면', '말같지도', '보고서가', '잘못이지', '그랬어요', '이렇게까', '쪼잔하게', '일이라도', '이럴거야', '생각해봐', '노력했어', '받으려고', '보내주는', '그럴리가', '풀어주세', '신고하기', '사과하지', '말하는것', '말씀하신', '이런식으', '안녕하세', '어이없네', '짜증나니', '못하는게', '아니고요', '아이스크', '생각해주', '배고픈데', '10프로', '조용히하', '이따위로', '정말입니', '이러시는', '내놓을래', '미쳤구나', '누구신데', '나가세요', '경찰한테', '이상하다', '납치해서', '김대리가', '가져와라', '죽여버려', '얘기했다', '우리오빠', '버스에서', '그러냐고', '벗으라고', '여기까지', '심하시네', '그런거지', '뭐라고요', '없는건가', '모르는데', '부당합니', '말해주는', '틀렸잖아', '서운하게', '누구세요', '수정하겠', '좋겠어요', '따라하지', '말대꾸야', '미안하네', '좋습니다', '어쩌라고', '사실인데', '입금하지', '들어가서', '말씀드렸', '손님한테', '다니라고', '진심이야', '친구잖아', '더이상은', '언제부터', '마찬가지', '지났는데', '사줬잖아', '어른한테', '처음부터', '죽겠는데', '무서우면', '재수없어', '받은거야', '이해해주', '좋을거야', '거잖아요', '용서해주', '부모님한', '빌려주고', '준비해서', '정신병자', '하나라도', '들어가는', '병원비가', '감사합니', '필요하세', '이번주말', '말아주세', '사과드리', '불편해서', '그러지마', '피곤하게', '못하겠으', '지나치시', '마무리해', '그렇습니', '못알아먹', '죽고싶다', '죽어버리', '그게아니', '이러시면', '이야기하', '냄새난다', '받으라고', '미친것아', '없으니까', '병신같은', '부서에서', '하나부터', '애들이랑', '아버지가', '시키는대', '어느정도', '맞고싶냐', '어딨는지', '되어있어', '필요하다', '어머어머', '기다리는', '친구한테', '아들이랑', '필요하지', '무슨소리', '그러니깐', '한대씩이', '이제와서', '궁금하지', '오후까지', '아니였어', '어울리지', '만들어줄', '미안하게', '솔직하게', '조심하겠', '뿐입니다', '쉬는시간', '못헤어져', '소리지르', '아니라구', '떨어져서', '못차렸네', '조금이라', '봤습니다', '말하는거', '바이러스', '들어오면', '조용히해', '괜찮은데', '어디부터', '저번처럼', '있었으면', '구해볼게', '일주일만', '못생겼으', '비트코인', '말아주십', '들었는데', '몰랐습니', '있으신가', '조심할께', '생각했어', '부탁하면', '기다려봐', '어리버리', '헤어졌잖', '배고프다', '아무거나', '놀리는거', '나온다면', '쓰겠습니', '노력하겠', '커피한잔', '알아야지', '그지같이', '만들었어', '주십시오', '부르셨습', '좋아한다', '그래서요', '좋아하는', '육아휴직', '말입니까', '주머니에', '들어온거', '손가락이', '뻔뻔하게', '힘들거같', '인사고과', '보내야지', '도둑이야', '뭐하는거', '놔주세요', '냄새나니', '부담스럽', '출산휴가', '주말에도', '퇴근하는', '아까워서', '죽어야해', '그렇잖아', '주말인데', '음주운전', '엄마한테', '다음에도', '걸어다니', '동생한테', '우리아이', '찌질하게', '와이프가', '잘못들었', '같으니까', '비싸보인', '아프다고', '목소리도', '하지말고', '사람이랑', '그지새끼', '몇살이야', '어머님이', '얘기하면', '서비스가', '지나치신', '말할거야', '상황에서', '너때문에', '달달한거', '않았는데', '부탁드려', '지난번에', '아니라고', '않을까요', '아끼는거', '고객님의', '죽고싶지', '구해오겠', '너무한다', '안되겠어', '다니는데', '5천만원', '그정도는', '사정이고', '안되는게', '준비하라', '안봤는데', '무사하지', '모르겠지', '박사원이', '다녀오면', '싸가지없', '쉬고싶어', '어떡하냐', '못생겼어', '장난아니', '싫은데요', '한다니까', '사생활이', '안그러면', '하겠습니', '냄새나서', '웃기지마', '만들어드', '세상에서', '갈테니까', '3만원만', '그런데요', '지랄하지', '노력해볼', '입이라고', '그렇다면', '남자애들', '사람처럼', '공부해서', '잘못되면', '했으면서', '해달라고', '말하지마', '부모님이', '갚겠습니', '시작이네', '생일이라', '환불해달', '이제부터', '신고할게', '당연하죠', '나오지를', '그러고도', '하셨는데', '만만하냐', '너같으면', '불러주세', '친구끼리', '기분나쁘게', '무슨상관이', '왜그러시죠', '마지막으로', '머리카락이', '신고할겁니', '빠져가지고', '너무하십니', '연락하지마', '잘못했는데', '비밀번호를', '500만원', '머라는거야', '10만원에', '조심하겠습', '수치스러워', '협박하시는', '이기적이네', '죽여버리는', '지나치시네', '죽여버리기', '하겠습니다', '왜이러시는', '어렵습니다', '잘못했습니', '빌려주세요', '5000원', '그러니까요', '그런거아니', '과장님께서', '부당합니다', '죽여버리고', '가겠습니다', '하라는대로', '살려주십쇼', '친구들한테', '다른사람한', '못생겼으면', '알았으니까', '그만하라고', '말씀이십니', '주의하겠습', '오랜만이네', '미안하다고', '죽여버린다', '무슨소리에', '모르겠네요', '나올때까지', '좋겠습니다', '안가져오면', '고치겠습니', '그게아니라', '부장님한테', '지나치십니', '사회생활을', '말씀이신가', '헤어졌잖아', '1000만', '노력해볼게', '말았어야지', '뭐하자는거', '무슨말씀이', '불러주세요', '생각하는데', '남자친구가', '해보겠습니', '왜그러는데', '선생님한테', '무슨일이십', '확인하겠습', '기어오르네', '마지막이다', '친구사이에', '신고할꺼야', '10만원만', '생각해보니', '도와드릴까', '이런식으로', '어딨습니까', '필요하다고', '감사합니다', '구해오겠습', '편의점에서', '구질구질하', '신고하기전', '좋은말할때', '모르겠습니', '말씀하시는', '믿어주세요', '이렇게까지', '일이십니까', '좋아보이네', '가져가세요', '알겠습니다', '생일선물로', '몸으로라도', '선물받은거', '살려주십시', '생각하지마', '신고할거야', '수정하겠습', '있으십니까', '사과해주세', '제정신이야', '회사에서는', '거지새끼야', '따라하지마', '어떡하라고', '아이스크림', '무슨일이신', '죄송합니다', '신고할거에', '냄새나니까', '것만으로도', '못알아먹네', '시정하겠습', '아니잖아요', '노력하겠습', '가능할까요', '신고합니다', '죽이기라도', '남자친구랑', '제출하겠습', '하셨잖아요', '그건아닌데', '사무실에서', '그러겠습니', '해오겠습니', '해야하는데', '모르겠지만', '남자친구는', '가보겠습니', '어서오세요', '진정하세요', '그러지마세', '다음부터는', '좋은말로할', '입금하세요', '생각하는거', '안된다니까', '무슨일이시', '그랬어야지', '이딴식으로', '사람인데요', '이런식이면', '300만원', '안녕하세요', '구해올게요', '너무하신거', '거짓말하는', '하지마세요', '아니라는거', '이번주말에', '바보아니야', '선생님께서', '헤어지자는', '잘못했는지', '기다려주세', '비싸보인다', '보고싶어서', '헤어지자고', '그랬습니다', '죽여버릴거', '어려우세요', '들었는데요', '진정하시고', '환불해달라', '생일이라고', '못알아먹어', '안그럴게요', '여자친구랑', '심하시네요', '소개시켜줘', '잘하겠습니', '부탁드립니', '약속있어요', '잘못했다고', '거짓말하지', '왜그러십니', '않겠습니다', '건드리지마', '개인적으로', '왜그러는거', '빌려달라는', '만들어줄까', '오랜만이야', '뛰어내릴거', '무슨말이야', '있을테니까', '그러는거지', '아니었습니', '말씀해주시', '죽을때까지', '막무가내로', '뭐하는거야', '이러십니까', '왜이러세요', '200만원', '그러고보니', '죽여버릴꺼', '드릴테니까', '못생겼다고', '뭐라는거야', '말씀하세요', '화장실에서', '알겠으니까', '아무한테도', '버르장머리', '그렇긴한데', '이야기하자', '안되겠구만', '왜이러는거', '심하십니다', '도와드리겠', '없었습니다', '보자보자하', '어떡합니까', '안그러겠습', '그만하세요', '환불해드리', '돌려줘야해', '해드리겠습', '말씀드렸어', '잘못했어요', '점심시간에', '조금이라도', '다음주까지', '알려주시면', '쓰레기통에', '부끄럽지도', '보내주시면', '되겠습니까', '어울린다고', '말아주세요', '맞으신가요', '무슨소리야', '잘못들었습', '정신차리겠', '정말이에요', '보내주세요', '도와주세요', '그러지말고', '오해십니다', '모르겠는데', '죄송하다고', '무슨일이세', '몰랐습니다', '부르셨어요', '정신차릴래', '못했습니다', '죄송하지만', '정신차려라', '아니라니까', '돌려주세요', '짜증나게하', '교장선생님', '고소할거야', '잘모르겠습', '장애인이라', '너무하시네', '부모님한테', '환불해주세', '가족들이랑', '필요하세요', '빌려주는거', '보내드릴게', '봐주십시오', '부르셨습니', '아니었어요', '다녀왔습니', '가야하는데', '괜찮습니다', '아시잖아요', '짜증나니까', '잘못했나요', '가져오라고', '곤란합니다', '그딴식으로', '100만원', '신고하겠습', '어디있어요', '돌려준다고', '너무하세요', '빌려달라고', '무슨일인데', '장애인이면', '말하는거야', '말씀이신지', '장난하는거', '말대답이야', '보겠습니다', '죽여버릴까', '힘들거같습', '왜그러시는', '부모님이랑', '안할테니까', '보고서라고', '무슨일이야', '안갚았잖아', '죄송하다는', '모르겠어요', '시키는대로', '생각했는데', '시끄러워서', '아메리카노', '그런식으로', '협박하는거', '이번달까지', '말씀이세요', '부모님께서', '정말입니다', '죽여버리겠', '살려주세요', '이러는거야', '처리하겠습', '내놓으라고', '움직이지마', '다니는거야', '좋아보인다', '다른사람들', '여자친구가', '그러십니까', '안녕하십니', '쓰겠습니다', '왜그러세요', '그러시는데', '불편합니다', '그렇게까지', '이러지마세', '여기있어요', '말씀이시죠', '헤어졌는데', '오해입니다', '잃어버렸다', '용서해주세', '이래가지고', '오랜만이다', '친구들이랑', '말대꾸까지', '1000원', '못알아들어', '갚겠습니다', '마지막이야', '풀어주세요', '사람들한테', '우리사이에', '회사생활이', '고통스럽게', '뭐하시는거', '말씀하시면', '그러는거야', '해주셔야죠', '안되는거야', '조심할께요', '여기있습니', '그렇습니다', '이러시는거', '하지말라고', '그만두던가', '지금이라도', '기다리세요', '나왔습니다', '그러시는거', '그러는건데', '시키는거야', '지랄하지마', '죄송하다면', '생각합니다', '김대리한테', '죽어버릴거', '드리겠습니', '않았습니까', '사과하세요', '죽여버릴테', '괴롭히지마', '그만해주세', '해줄테니까', '필요하거든', '명심하겠습', '헛소리하지', '오겠습니다', '있으신가요', '다녀오겠습', '안빌려주면', '미안합니다', '빌려주는게', '부탁드릴게', '일이신가요', '부탁드려요', '정신차리지', '프로젝트에', '용서해주세요', '100만원만', '노력하겠습니', '그만해주세요', '협박하는거야', '잘모르겠습니', '너무하십니다', '안그러겠습니', '조심하겠습니', '사과해주세요', '아니었습니다', '수정하겠습니', '무슨말씀이세', '해보겠습니다', '보자보자하니', '지나치시네요', '무슨말씀이신', '뛰어내릴거야', '죽여버릴거야', '안녕하십니까', '도와드릴까요', '여기있습니다', '부탁드릴게요', '기다려주세요', '주의하겠습니', '그러시는데요', '헛소리하지말', '왜이러는거야', '100만원이', '거짓말하지마', '그런거아니야', '확인하겠습니', '무슨일이신가', '말씀이십니까', '무슨일이세요', '그러지마세요', '모르겠습니다', '죽여버리겠다', '다녀왔습니다', '말씀이신가요', '왜그러는거야', '빌려달라는데', '부탁드립니다', '가보겠습니다', '잘못들었습니', '300만원만', '죽여버릴꺼야', '너무하시네요', '죽여버릴테니', '1000만원', '해오겠습니다', '다른사람한테', '힘들거같습니', '무슨소리에요', '잘못했습니다', '환불해주세요', '죽여버리겠어', '아니라니까요', '좋은말로할때', '이러지마세요', '제출하겠습니', '왜그러십니까', '무슨일이시죠', '그러겠습니다', '무슨일이십니', '잘하겠습니다', '지나치십니다', '도와드리겠습', '구해오겠습니', '시정하겠습니', '신고할거에요', '부르셨습니까', '다녀오겠습니', '말씀해주시면', '빌려달라는거', '살려주십시오', '해드리겠습니', '신고하겠습니', '죽여버릴거니', '드리겠습니다', '처리하겠습니', '신고하기전에', '신고할겁니다', '죽어버릴거야', '고치겠습니다', '명심하겠습니', '힘들거같습니다', '잘모르겠습니다', '보자보자하니까', '구해오겠습니다', '제출하겠습니다', '잘못들었습니다', '무슨일이십니까', '처리하겠습니다', '시정하겠습니다', '신고하겠습니다', '무슨말씀이세요', '무슨말씀이신지', '죽여버릴거니까', '다녀오겠습니다', '안그러겠습니다', '1000만원만', '조심하겠습니다', '수정하겠습니다', '죽여버릴테니까', '주의하겠습니다', '무슨일이신가요', '해드리겠습니다', '노력하겠습니다', '명심하겠습니다', '도와드리겠습니', '확인하겠습니다', '헛소리하지말고', '도와드리겠습니다'])"
      ]
     },
     "execution_count": 24,
     "metadata": {},
     "output_type": "execute_result"
    }
   ],
   "source": [
    "word_score_table.keys()"
   ]
  },
  {
   "cell_type": "code",
   "execution_count": 25,
   "id": "d42f7450",
   "metadata": {},
   "outputs": [],
   "source": [
    "test_corpus = test_data['text'].map(preprocess_document)"
   ]
  },
  {
   "cell_type": "code",
   "execution_count": 26,
   "id": "c90d783b",
   "metadata": {},
   "outputs": [
    {
     "data": {
      "text/plain": [
       "t_000    [아가씨, 담배, 한갑주소, 네, 450, 0원입니다, 어, 네, 지갑어디갔지, 에...\n",
       "t_001    [우리, 팀에서, 다른, 팀으로, 갈, 사람, 없나, 그럼, 영지씨가, 가는건, 어...\n",
       "t_002    [너, 오늘, 그게, 뭐야, 네, 제가, 뭘, 잘못했, 나요, 제대로, 좀, 하지,...\n",
       "t_004    [아무튼, 앞으로, 니가, 내, 와이, 파이야, 응, 와이, 파이, 온, 켰어, 반...\n",
       "t_005    [그러니까, 빨리, 말해, 선생님, 제발, 살려주, 십시오, 비밀번호, 틀릴, 때마...\n",
       "                               ...                        \n",
       "t_495    [미나씨, 휴가, 결제, 올리, 기, 전에, 저랑, 상의하라고, 말한거, 기억해, ...\n",
       "t_496    [교수님, 제, 논문, 에, 제, 이름이, 없나요, 아, 무슨, 논문, 말이야, 지...\n",
       "t_497    [야, 너, 네, 저요, 그래, 너, 왜요, 돈좀, 줘봐, 돈, 없어, 요, 돈이,...\n",
       "t_498    [야, 너, 빨리, 안, 뛰어, 와, 너, 이, 환자, 제대로, 봤어, 안, 봤어,...\n",
       "t_499    [엄마, 저, 그, 돈, 안해주, 시면, 정말, 큰일, 나요, 이유도, 말하지, 않...\n",
       "Name: text, Length: 400, dtype: object"
      ]
     },
     "execution_count": 26,
     "metadata": {},
     "output_type": "execute_result"
    }
   ],
   "source": [
    "test_seqs = test_corpus.map(tokenizer.tokenize)\n",
    "test_seqs"
   ]
  },
  {
   "cell_type": "code",
   "execution_count": 27,
   "id": "443fd64c",
   "metadata": {},
   "outputs": [
    {
     "name": "stdout",
     "output_type": "stream",
     "text": [
      "test coverage: 0.7697015245866438\n"
     ]
    }
   ],
   "source": [
    "vocabulary = word_score_table.keys()\n",
    "\n",
    "total_words = 0\n",
    "coverage = 0\n",
    "\n",
    "for row in test_seqs:\n",
    "    total_words += len(row)\n",
    "    for word in row:\n",
    "        if word in vocabulary:\n",
    "            coverage += 1\n",
    "            \n",
    "print('test coverage:', coverage / float(total_words))"
   ]
  },
  {
   "cell_type": "code",
   "execution_count": 2,
   "id": "22e0d1aa",
   "metadata": {},
   "outputs": [
    {
     "name": "stdout",
     "output_type": "stream",
     "text": [
      "MultinomialNB:\n",
      "\ttrain: 0.9615\n",
      "\tval: 0.8528\n",
      "ComplementNB:\n",
      "\ttrain: 0.9730\n",
      "\tval: 0.8614\n",
      "LinearSVC:\n",
      "\ttrain: 1.0000\n",
      "\tval: 0.8218\n",
      "DecisionTreeClassifier:\n",
      "\ttrain: 0.7043\n",
      "\tval: 0.6022\n",
      "RandomForestClassifier:\n",
      "\ttrain: 0.7287\n",
      "\tval: 0.6156\n",
      "GradientBoostingClassifier:\n",
      "\ttrain: 0.9320\n",
      "\tval: 0.7926\n"
     ]
    }
   ],
   "source": [
    "results = dict()\n",
    "\n",
    "with open('SoyNLP.txt', 'r') as f:\n",
    "    while True:\n",
    "        line = f.readline()\n",
    "        if line is None or line == '':\n",
    "            break\n",
    "        model_name, train_acc, val_acc = line.split()\n",
    "        model_name = model_name[:-3]\n",
    "        train_acc = float(train_acc[:-1])\n",
    "        val_acc = float(val_acc[:-1])\n",
    "        if results.get(model_name, None) is None:\n",
    "            results[model_name] = {'train': 0.0, 'val': 0.0}\n",
    "        results[model_name]['train'] += train_acc\n",
    "        results[model_name]['val'] += val_acc\n",
    "\n",
    "for model_name in results:\n",
    "    print(model_name + \":\")\n",
    "    print(f\"\\ttrain: {results[model_name]['train'] / 5.0:.4f}\")\n",
    "    print(f\"\\tval: {results[model_name]['val'] / 5.0:.4f}\")"
   ]
  },
  {
   "cell_type": "code",
   "execution_count": null,
   "id": "36b9e73a",
   "metadata": {},
   "outputs": [],
   "source": []
  }
 ],
 "metadata": {
  "kernelspec": {
   "display_name": "Python 3 (ipykernel)",
   "language": "python",
   "name": "python3"
  },
  "language_info": {
   "codemirror_mode": {
    "name": "ipython",
    "version": 3
   },
   "file_extension": ".py",
   "mimetype": "text/x-python",
   "name": "python",
   "nbconvert_exporter": "python",
   "pygments_lexer": "ipython3",
   "version": "3.9.7"
  }
 },
 "nbformat": 4,
 "nbformat_minor": 5
}
